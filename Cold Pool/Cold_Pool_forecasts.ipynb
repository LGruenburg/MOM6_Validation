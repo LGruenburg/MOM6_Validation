{
 "cells": [
  {
   "cell_type": "code",
   "execution_count": null,
   "id": "89a61188-3e4a-4da4-9229-870d4b5fda99",
   "metadata": {},
   "outputs": [],
   "source": [
    "#import packages\n",
    "import xarray as xr\n",
    "import copernicusmarine\n",
    "import numpy as np\n",
    "import os\n",
    "import pandas as pn\n",
    "import geopandas as gpd\n",
    "import READ_EDAB_Utilities_py as reupy\n",
    "import matplotlib.pyplot as plt\n",
    "%matplotlib inline\n",
    "import scipy as sio"
   ]
  },
  {
   "cell_type": "code",
   "execution_count": null,
   "id": "c6264662-09bd-46dc-a9da-434dfba45de7",
   "metadata": {},
   "outputs": [],
   "source": [
    "def load_initialization(directory):\n",
    "    bt_empty = np.empty([30, 10,12,844,774])\n",
    "    bt_time = np.empty(30)\n",
    "    directory = directory\n",
    "\n",
    "    a = 0\n",
    "    # Iterate over files in directory\n",
    "    for file in os.listdir(directory):\n",
    "        filename = directory + file\n",
    "        bt_yr = xr.open_dataset(directory + file)\n",
    "        bt_empty[a,:,:,:,:] = bt_yr.tob.values\n",
    "        bt_time[a] = pn.to_datetime(bt_yr.init.values).year\n",
    "        a = a+1\n",
    "\n",
    "    bt_forecast = xr.Dataset({'tob': (['year','member','lead','lat','lon'], bt_empty)},\n",
    "                         coords = {'year': bt_time,\n",
    "                                   'member': bt_yr.member.values,\n",
    "                                   'lead': bt_yr.lead.values,\n",
    "                                   'lat': bt_yr.lat.values,\n",
    "                                   'lon': bt_yr.lon.values})\n",
    "    bt_forecast = bt_forecast.sel(lat = slice(30,46), lon = slice(360-80, 360-60))\n",
    "\n",
    "    return(bt_forecast)"
   ]
  },
  {
   "cell_type": "code",
   "execution_count": null,
   "id": "f5e5eaba-7385-47fc-b0aa-2b788f3a1b44",
   "metadata": {},
   "outputs": [],
   "source": [
    "bt_empty = np.empty([3, 10,12,844,774])\n",
    "bt_time = np.empty(3)\n",
    "\n",
    "years = ['2017', '2018', '2019']\n",
    "\n",
    "for a in range(3):\n",
    "    bt_yr = xr.open_dataset('tob_forecast/Dec_init/tob.nwa.full.ss_refcast.monthly.regrid.r20240213.enss.i'+ years[a] +'12.nc')\n",
    "    bt_empty[a,:,:,:,:] = bt_yr.tob.values\n",
    "    bt_time[a] = pn.to_datetime(bt_yr.init.values).year\n",
    "    a = a+1\n",
    "\n",
    "bt_forecast_dec = xr.Dataset({'tob': (['year','member','lead','lat','lon'], bt_empty)},\n",
    "                         coords = {'year': bt_time,\n",
    "                                   'member': bt_yr.member.values,\n",
    "                                   'lead': bt_yr.lead.values,\n",
    "                                   'lat': bt_yr.lat.values,\n",
    "                                   'lon': bt_yr.lon.values})"
   ]
  },
  {
   "cell_type": "code",
   "execution_count": null,
   "id": "492cbf3d-db6b-40fe-b2a1-b169d89e22d5",
   "metadata": {},
   "outputs": [],
   "source": [
    "bt_empty = np.empty([3, 10,12,844,774])\n",
    "bt_time = np.empty(3)\n",
    "\n",
    "years = ['2017', '2018', '2019']\n",
    "\n",
    "for a in range(3):\n",
    "    bt_yr = xr.open_dataset('tob_forecast/March_init/tob_forecast_i'+ years[a] +'03.nc')\n",
    "    bt_empty[a,:,:,:,:] = bt_yr.tob.values\n",
    "    bt_time[a] = pn.to_datetime(bt_yr.init.values).year\n",
    "    a = a+1\n",
    "\n",
    "bt_forecast_mar = xr.Dataset({'tob': (['year','member','lead','lat','lon'], bt_empty)},\n",
    "                         coords = {'year': bt_time,\n",
    "                                   'member': bt_yr.member.values,\n",
    "                                   'lead': bt_yr.lead.values,\n",
    "                                   'lat': bt_yr.lat.values,\n",
    "                                   'lon': bt_yr.lon.values})"
   ]
  },
  {
   "cell_type": "code",
   "execution_count": null,
   "id": "0ebd3663-abb0-465f-ba24-6f4460a2befa",
   "metadata": {},
   "outputs": [],
   "source": [
    "bt_empty = np.empty([3, 10,12,844,774])\n",
    "bt_time = np.empty(3)\n",
    "\n",
    "years = ['2017', '2018', '2019']\n",
    "\n",
    "for a in range(3):\n",
    "    bt_yr = xr.open_dataset('tob_forecast/June_init/tob_forecast_i'+ years[a] +'06.nc')\n",
    "    bt_empty[a,:,:,:,:] = bt_yr.tob.values\n",
    "    bt_time[a] = pn.to_datetime(bt_yr.init.values).year\n",
    "    a = a+1\n",
    "\n",
    "bt_forecast_june = xr.Dataset({'tob': (['year','member','lead','lat','lon'], bt_empty)},\n",
    "                         coords = {'year': bt_time,\n",
    "                                   'member': bt_yr.member.values,\n",
    "                                   'lead': bt_yr.lead.values,\n",
    "                                   'lat': bt_yr.lat.values,\n",
    "                                   'lon': bt_yr.lon.values})"
   ]
  },
  {
   "cell_type": "code",
   "execution_count": null,
   "id": "6f07ab61-9458-4bed-94d3-a30a89259ea7",
   "metadata": {},
   "outputs": [],
   "source": [
    "bt_empty = np.empty([3, 10,12,844,774])\n",
    "bt_time = np.empty(3)\n",
    "\n",
    "years = ['2017', '2018', '2019']\n",
    "\n",
    "for a in range(3):\n",
    "    bt_yr = xr.open_dataset('tob_forecast/Sept_init/tob.nwa.full.ss_refcast.monthly.regrid.r20240213.enss.i'+ years[a] +'09.nc')\n",
    "    bt_empty[a,:,:,:,:] = bt_yr.tob.values\n",
    "    bt_time[a] = pn.to_datetime(bt_yr.init.values).year\n",
    "    a = a+1\n",
    "\n",
    "bt_forecast_sept = xr.Dataset({'tob': (['year','member','lead','lat','lon'], bt_empty)},\n",
    "                         coords = {'year': bt_time,\n",
    "                                   'member': bt_yr.member.values,\n",
    "                                   'lead': bt_yr.lead.values,\n",
    "                                   'lat': bt_yr.lat.values,\n",
    "                                   'lon': bt_yr.lon.values})"
   ]
  },
  {
   "cell_type": "code",
   "execution_count": 3,
   "id": "94ef1beb-5b32-4a04-8921-5534a2240233",
   "metadata": {},
   "outputs": [
    {
     "data": {
      "text/html": [
       "<div><svg style=\"position: absolute; width: 0; height: 0; overflow: hidden\">\n",
       "<defs>\n",
       "<symbol id=\"icon-database\" viewBox=\"0 0 32 32\">\n",
       "<path d=\"M16 0c-8.837 0-16 2.239-16 5v4c0 2.761 7.163 5 16 5s16-2.239 16-5v-4c0-2.761-7.163-5-16-5z\"></path>\n",
       "<path d=\"M16 17c-8.837 0-16-2.239-16-5v6c0 2.761 7.163 5 16 5s16-2.239 16-5v-6c0 2.761-7.163 5-16 5z\"></path>\n",
       "<path d=\"M16 26c-8.837 0-16-2.239-16-5v6c0 2.761 7.163 5 16 5s16-2.239 16-5v-6c0 2.761-7.163 5-16 5z\"></path>\n",
       "</symbol>\n",
       "<symbol id=\"icon-file-text2\" viewBox=\"0 0 32 32\">\n",
       "<path d=\"M28.681 7.159c-0.694-0.947-1.662-2.053-2.724-3.116s-2.169-2.030-3.116-2.724c-1.612-1.182-2.393-1.319-2.841-1.319h-15.5c-1.378 0-2.5 1.121-2.5 2.5v27c0 1.378 1.122 2.5 2.5 2.5h23c1.378 0 2.5-1.122 2.5-2.5v-19.5c0-0.448-0.137-1.23-1.319-2.841zM24.543 5.457c0.959 0.959 1.712 1.825 2.268 2.543h-4.811v-4.811c0.718 0.556 1.584 1.309 2.543 2.268zM28 29.5c0 0.271-0.229 0.5-0.5 0.5h-23c-0.271 0-0.5-0.229-0.5-0.5v-27c0-0.271 0.229-0.5 0.5-0.5 0 0 15.499-0 15.5 0v7c0 0.552 0.448 1 1 1h7v19.5z\"></path>\n",
       "<path d=\"M23 26h-14c-0.552 0-1-0.448-1-1s0.448-1 1-1h14c0.552 0 1 0.448 1 1s-0.448 1-1 1z\"></path>\n",
       "<path d=\"M23 22h-14c-0.552 0-1-0.448-1-1s0.448-1 1-1h14c0.552 0 1 0.448 1 1s-0.448 1-1 1z\"></path>\n",
       "<path d=\"M23 18h-14c-0.552 0-1-0.448-1-1s0.448-1 1-1h14c0.552 0 1 0.448 1 1s-0.448 1-1 1z\"></path>\n",
       "</symbol>\n",
       "</defs>\n",
       "</svg>\n",
       "<style>/* CSS stylesheet for displaying xarray objects in jupyterlab.\n",
       " *\n",
       " */\n",
       "\n",
       ":root {\n",
       "  --xr-font-color0: var(--jp-content-font-color0, rgba(0, 0, 0, 1));\n",
       "  --xr-font-color2: var(--jp-content-font-color2, rgba(0, 0, 0, 0.54));\n",
       "  --xr-font-color3: var(--jp-content-font-color3, rgba(0, 0, 0, 0.38));\n",
       "  --xr-border-color: var(--jp-border-color2, #e0e0e0);\n",
       "  --xr-disabled-color: var(--jp-layout-color3, #bdbdbd);\n",
       "  --xr-background-color: var(--jp-layout-color0, white);\n",
       "  --xr-background-color-row-even: var(--jp-layout-color1, white);\n",
       "  --xr-background-color-row-odd: var(--jp-layout-color2, #eeeeee);\n",
       "}\n",
       "\n",
       "html[theme=\"dark\"],\n",
       "html[data-theme=\"dark\"],\n",
       "body[data-theme=\"dark\"],\n",
       "body.vscode-dark {\n",
       "  --xr-font-color0: rgba(255, 255, 255, 1);\n",
       "  --xr-font-color2: rgba(255, 255, 255, 0.54);\n",
       "  --xr-font-color3: rgba(255, 255, 255, 0.38);\n",
       "  --xr-border-color: #1f1f1f;\n",
       "  --xr-disabled-color: #515151;\n",
       "  --xr-background-color: #111111;\n",
       "  --xr-background-color-row-even: #111111;\n",
       "  --xr-background-color-row-odd: #313131;\n",
       "}\n",
       "\n",
       ".xr-wrap {\n",
       "  display: block !important;\n",
       "  min-width: 300px;\n",
       "  max-width: 700px;\n",
       "}\n",
       "\n",
       ".xr-text-repr-fallback {\n",
       "  /* fallback to plain text repr when CSS is not injected (untrusted notebook) */\n",
       "  display: none;\n",
       "}\n",
       "\n",
       ".xr-header {\n",
       "  padding-top: 6px;\n",
       "  padding-bottom: 6px;\n",
       "  margin-bottom: 4px;\n",
       "  border-bottom: solid 1px var(--xr-border-color);\n",
       "}\n",
       "\n",
       ".xr-header > div,\n",
       ".xr-header > ul {\n",
       "  display: inline;\n",
       "  margin-top: 0;\n",
       "  margin-bottom: 0;\n",
       "}\n",
       "\n",
       ".xr-obj-type,\n",
       ".xr-array-name {\n",
       "  margin-left: 2px;\n",
       "  margin-right: 10px;\n",
       "}\n",
       "\n",
       ".xr-obj-type {\n",
       "  color: var(--xr-font-color2);\n",
       "}\n",
       "\n",
       ".xr-sections {\n",
       "  padding-left: 0 !important;\n",
       "  display: grid;\n",
       "  grid-template-columns: 150px auto auto 1fr 0 20px 0 20px;\n",
       "}\n",
       "\n",
       ".xr-section-item {\n",
       "  display: contents;\n",
       "}\n",
       "\n",
       ".xr-section-item input {\n",
       "  display: inline-block;\n",
       "  opacity: 0;\n",
       "  height: 0;\n",
       "}\n",
       "\n",
       ".xr-section-item input + label {\n",
       "  color: var(--xr-disabled-color);\n",
       "}\n",
       "\n",
       ".xr-section-item input:enabled + label {\n",
       "  cursor: pointer;\n",
       "  color: var(--xr-font-color2);\n",
       "}\n",
       "\n",
       ".xr-section-item input:focus + label {\n",
       "  border: 2px solid var(--xr-font-color0);\n",
       "}\n",
       "\n",
       ".xr-section-item input:enabled + label:hover {\n",
       "  color: var(--xr-font-color0);\n",
       "}\n",
       "\n",
       ".xr-section-summary {\n",
       "  grid-column: 1;\n",
       "  color: var(--xr-font-color2);\n",
       "  font-weight: 500;\n",
       "}\n",
       "\n",
       ".xr-section-summary > span {\n",
       "  display: inline-block;\n",
       "  padding-left: 0.5em;\n",
       "}\n",
       "\n",
       ".xr-section-summary-in:disabled + label {\n",
       "  color: var(--xr-font-color2);\n",
       "}\n",
       "\n",
       ".xr-section-summary-in + label:before {\n",
       "  display: inline-block;\n",
       "  content: \"►\";\n",
       "  font-size: 11px;\n",
       "  width: 15px;\n",
       "  text-align: center;\n",
       "}\n",
       "\n",
       ".xr-section-summary-in:disabled + label:before {\n",
       "  color: var(--xr-disabled-color);\n",
       "}\n",
       "\n",
       ".xr-section-summary-in:checked + label:before {\n",
       "  content: \"▼\";\n",
       "}\n",
       "\n",
       ".xr-section-summary-in:checked + label > span {\n",
       "  display: none;\n",
       "}\n",
       "\n",
       ".xr-section-summary,\n",
       ".xr-section-inline-details {\n",
       "  padding-top: 4px;\n",
       "  padding-bottom: 4px;\n",
       "}\n",
       "\n",
       ".xr-section-inline-details {\n",
       "  grid-column: 2 / -1;\n",
       "}\n",
       "\n",
       ".xr-section-details {\n",
       "  display: none;\n",
       "  grid-column: 1 / -1;\n",
       "  margin-bottom: 5px;\n",
       "}\n",
       "\n",
       ".xr-section-summary-in:checked ~ .xr-section-details {\n",
       "  display: contents;\n",
       "}\n",
       "\n",
       ".xr-array-wrap {\n",
       "  grid-column: 1 / -1;\n",
       "  display: grid;\n",
       "  grid-template-columns: 20px auto;\n",
       "}\n",
       "\n",
       ".xr-array-wrap > label {\n",
       "  grid-column: 1;\n",
       "  vertical-align: top;\n",
       "}\n",
       "\n",
       ".xr-preview {\n",
       "  color: var(--xr-font-color3);\n",
       "}\n",
       "\n",
       ".xr-array-preview,\n",
       ".xr-array-data {\n",
       "  padding: 0 5px !important;\n",
       "  grid-column: 2;\n",
       "}\n",
       "\n",
       ".xr-array-data,\n",
       ".xr-array-in:checked ~ .xr-array-preview {\n",
       "  display: none;\n",
       "}\n",
       "\n",
       ".xr-array-in:checked ~ .xr-array-data,\n",
       ".xr-array-preview {\n",
       "  display: inline-block;\n",
       "}\n",
       "\n",
       ".xr-dim-list {\n",
       "  display: inline-block !important;\n",
       "  list-style: none;\n",
       "  padding: 0 !important;\n",
       "  margin: 0;\n",
       "}\n",
       "\n",
       ".xr-dim-list li {\n",
       "  display: inline-block;\n",
       "  padding: 0;\n",
       "  margin: 0;\n",
       "}\n",
       "\n",
       ".xr-dim-list:before {\n",
       "  content: \"(\";\n",
       "}\n",
       "\n",
       ".xr-dim-list:after {\n",
       "  content: \")\";\n",
       "}\n",
       "\n",
       ".xr-dim-list li:not(:last-child):after {\n",
       "  content: \",\";\n",
       "  padding-right: 5px;\n",
       "}\n",
       "\n",
       ".xr-has-index {\n",
       "  font-weight: bold;\n",
       "}\n",
       "\n",
       ".xr-var-list,\n",
       ".xr-var-item {\n",
       "  display: contents;\n",
       "}\n",
       "\n",
       ".xr-var-item > div,\n",
       ".xr-var-item label,\n",
       ".xr-var-item > .xr-var-name span {\n",
       "  background-color: var(--xr-background-color-row-even);\n",
       "  margin-bottom: 0;\n",
       "}\n",
       "\n",
       ".xr-var-item > .xr-var-name:hover span {\n",
       "  padding-right: 5px;\n",
       "}\n",
       "\n",
       ".xr-var-list > li:nth-child(odd) > div,\n",
       ".xr-var-list > li:nth-child(odd) > label,\n",
       ".xr-var-list > li:nth-child(odd) > .xr-var-name span {\n",
       "  background-color: var(--xr-background-color-row-odd);\n",
       "}\n",
       "\n",
       ".xr-var-name {\n",
       "  grid-column: 1;\n",
       "}\n",
       "\n",
       ".xr-var-dims {\n",
       "  grid-column: 2;\n",
       "}\n",
       "\n",
       ".xr-var-dtype {\n",
       "  grid-column: 3;\n",
       "  text-align: right;\n",
       "  color: var(--xr-font-color2);\n",
       "}\n",
       "\n",
       ".xr-var-preview {\n",
       "  grid-column: 4;\n",
       "}\n",
       "\n",
       ".xr-index-preview {\n",
       "  grid-column: 2 / 5;\n",
       "  color: var(--xr-font-color2);\n",
       "}\n",
       "\n",
       ".xr-var-name,\n",
       ".xr-var-dims,\n",
       ".xr-var-dtype,\n",
       ".xr-preview,\n",
       ".xr-attrs dt {\n",
       "  white-space: nowrap;\n",
       "  overflow: hidden;\n",
       "  text-overflow: ellipsis;\n",
       "  padding-right: 10px;\n",
       "}\n",
       "\n",
       ".xr-var-name:hover,\n",
       ".xr-var-dims:hover,\n",
       ".xr-var-dtype:hover,\n",
       ".xr-attrs dt:hover {\n",
       "  overflow: visible;\n",
       "  width: auto;\n",
       "  z-index: 1;\n",
       "}\n",
       "\n",
       ".xr-var-attrs,\n",
       ".xr-var-data,\n",
       ".xr-index-data {\n",
       "  display: none;\n",
       "  background-color: var(--xr-background-color) !important;\n",
       "  padding-bottom: 5px !important;\n",
       "}\n",
       "\n",
       ".xr-var-attrs-in:checked ~ .xr-var-attrs,\n",
       ".xr-var-data-in:checked ~ .xr-var-data,\n",
       ".xr-index-data-in:checked ~ .xr-index-data {\n",
       "  display: block;\n",
       "}\n",
       "\n",
       ".xr-var-data > table {\n",
       "  float: right;\n",
       "}\n",
       "\n",
       ".xr-var-name span,\n",
       ".xr-var-data,\n",
       ".xr-index-name div,\n",
       ".xr-index-data,\n",
       ".xr-attrs {\n",
       "  padding-left: 25px !important;\n",
       "}\n",
       "\n",
       ".xr-attrs,\n",
       ".xr-var-attrs,\n",
       ".xr-var-data,\n",
       ".xr-index-data {\n",
       "  grid-column: 1 / -1;\n",
       "}\n",
       "\n",
       "dl.xr-attrs {\n",
       "  padding: 0;\n",
       "  margin: 0;\n",
       "  display: grid;\n",
       "  grid-template-columns: 125px auto;\n",
       "}\n",
       "\n",
       ".xr-attrs dt,\n",
       ".xr-attrs dd {\n",
       "  padding: 0;\n",
       "  margin: 0;\n",
       "  float: left;\n",
       "  padding-right: 10px;\n",
       "  width: auto;\n",
       "}\n",
       "\n",
       ".xr-attrs dt {\n",
       "  font-weight: normal;\n",
       "  grid-column: 1;\n",
       "}\n",
       "\n",
       ".xr-attrs dt:hover span {\n",
       "  display: inline-block;\n",
       "  background: var(--xr-background-color);\n",
       "  padding-right: 10px;\n",
       "}\n",
       "\n",
       ".xr-attrs dd {\n",
       "  grid-column: 2;\n",
       "  white-space: pre-wrap;\n",
       "  word-break: break-all;\n",
       "}\n",
       "\n",
       ".xr-icon-database,\n",
       ".xr-icon-file-text2,\n",
       ".xr-no-icon {\n",
       "  display: inline-block;\n",
       "  vertical-align: middle;\n",
       "  width: 1em;\n",
       "  height: 1.5em !important;\n",
       "  stroke-width: 0;\n",
       "  stroke: currentColor;\n",
       "  fill: currentColor;\n",
       "}\n",
       "</style><pre class='xr-text-repr-fallback'>&lt;xarray.Dataset&gt; Size: 2GB\n",
       "Dimensions:  (year: 30, member: 10, lead: 12, lat: 255, lon: 248)\n",
       "Coordinates:\n",
       "  * year     (year) float64 240B 1.993e+03 1.994e+03 ... 2.021e+03 2.022e+03\n",
       "  * member   (member) int32 40B 1 2 3 4 5 6 7 8 9 10\n",
       "  * lead     (lead) int32 48B 0 1 2 3 4 5 6 7 8 9 10 11\n",
       "  * lat      (lat) float64 2kB 30.05 30.12 30.18 30.24 ... 45.86 45.93 45.99\n",
       "  * lon      (lon) float64 2kB 280.0 280.1 280.2 280.3 ... 299.8 299.9 300.0\n",
       "Data variables:\n",
       "    tob      (year, member, lead, lat, lon) float64 2GB 8.248 8.259 ... nan nan</pre><div class='xr-wrap' style='display:none'><div class='xr-header'><div class='xr-obj-type'>xarray.Dataset</div></div><ul class='xr-sections'><li class='xr-section-item'><input id='section-48f855f3-53d1-4401-b50b-4c2afd310922' class='xr-section-summary-in' type='checkbox' disabled ><label for='section-48f855f3-53d1-4401-b50b-4c2afd310922' class='xr-section-summary'  title='Expand/collapse section'>Dimensions:</label><div class='xr-section-inline-details'><ul class='xr-dim-list'><li><span class='xr-has-index'>year</span>: 30</li><li><span class='xr-has-index'>member</span>: 10</li><li><span class='xr-has-index'>lead</span>: 12</li><li><span class='xr-has-index'>lat</span>: 255</li><li><span class='xr-has-index'>lon</span>: 248</li></ul></div><div class='xr-section-details'></div></li><li class='xr-section-item'><input id='section-eb16300f-734a-463b-af79-f58bf1eb728b' class='xr-section-summary-in' type='checkbox'  checked><label for='section-eb16300f-734a-463b-af79-f58bf1eb728b' class='xr-section-summary' >Coordinates: <span>(5)</span></label><div class='xr-section-inline-details'></div><div class='xr-section-details'><ul class='xr-var-list'><li class='xr-var-item'><div class='xr-var-name'><span class='xr-has-index'>year</span></div><div class='xr-var-dims'>(year)</div><div class='xr-var-dtype'>float64</div><div class='xr-var-preview xr-preview'>1.993e+03 1.994e+03 ... 2.022e+03</div><input id='attrs-905e3ba4-0f8d-45d5-80cd-f65b948ccfea' class='xr-var-attrs-in' type='checkbox' disabled><label for='attrs-905e3ba4-0f8d-45d5-80cd-f65b948ccfea' title='Show/Hide attributes'><svg class='icon xr-icon-file-text2'><use xlink:href='#icon-file-text2'></use></svg></label><input id='data-557de256-4c45-46cb-8ed9-2f3caeb5c013' class='xr-var-data-in' type='checkbox'><label for='data-557de256-4c45-46cb-8ed9-2f3caeb5c013' title='Show/Hide data repr'><svg class='icon xr-icon-database'><use xlink:href='#icon-database'></use></svg></label><div class='xr-var-attrs'><dl class='xr-attrs'></dl></div><div class='xr-var-data'><pre>array([1993., 1994., 1995., 1996., 1997., 1998., 1999., 2000., 2001., 2002.,\n",
       "       2003., 2004., 2005., 2006., 2007., 2008., 2009., 2010., 2011., 2012.,\n",
       "       2013., 2014., 2015., 2016., 2017., 2018., 2019., 2020., 2021., 2022.])</pre></div></li><li class='xr-var-item'><div class='xr-var-name'><span class='xr-has-index'>member</span></div><div class='xr-var-dims'>(member)</div><div class='xr-var-dtype'>int32</div><div class='xr-var-preview xr-preview'>1 2 3 4 5 6 7 8 9 10</div><input id='attrs-ec73e55c-84ea-4d50-9812-58578a0aba24' class='xr-var-attrs-in' type='checkbox' disabled><label for='attrs-ec73e55c-84ea-4d50-9812-58578a0aba24' title='Show/Hide attributes'><svg class='icon xr-icon-file-text2'><use xlink:href='#icon-file-text2'></use></svg></label><input id='data-e2573390-dbfc-44c9-a319-57dd89a9aa94' class='xr-var-data-in' type='checkbox'><label for='data-e2573390-dbfc-44c9-a319-57dd89a9aa94' title='Show/Hide data repr'><svg class='icon xr-icon-database'><use xlink:href='#icon-database'></use></svg></label><div class='xr-var-attrs'><dl class='xr-attrs'></dl></div><div class='xr-var-data'><pre>array([ 1,  2,  3,  4,  5,  6,  7,  8,  9, 10])</pre></div></li><li class='xr-var-item'><div class='xr-var-name'><span class='xr-has-index'>lead</span></div><div class='xr-var-dims'>(lead)</div><div class='xr-var-dtype'>int32</div><div class='xr-var-preview xr-preview'>0 1 2 3 4 5 6 7 8 9 10 11</div><input id='attrs-82a0cc5d-7c72-4c37-aa58-790aa0bc4e5f' class='xr-var-attrs-in' type='checkbox' disabled><label for='attrs-82a0cc5d-7c72-4c37-aa58-790aa0bc4e5f' title='Show/Hide attributes'><svg class='icon xr-icon-file-text2'><use xlink:href='#icon-file-text2'></use></svg></label><input id='data-b56a6a73-d8a5-435e-9c03-2b906e094e4c' class='xr-var-data-in' type='checkbox'><label for='data-b56a6a73-d8a5-435e-9c03-2b906e094e4c' title='Show/Hide data repr'><svg class='icon xr-icon-database'><use xlink:href='#icon-database'></use></svg></label><div class='xr-var-attrs'><dl class='xr-attrs'></dl></div><div class='xr-var-data'><pre>array([ 0,  1,  2,  3,  4,  5,  6,  7,  8,  9, 10, 11])</pre></div></li><li class='xr-var-item'><div class='xr-var-name'><span class='xr-has-index'>lat</span></div><div class='xr-var-dims'>(lat)</div><div class='xr-var-dtype'>float64</div><div class='xr-var-preview xr-preview'>30.05 30.12 30.18 ... 45.93 45.99</div><input id='attrs-cfd4a354-d790-44fd-88ad-2671367675dd' class='xr-var-attrs-in' type='checkbox' disabled><label for='attrs-cfd4a354-d790-44fd-88ad-2671367675dd' title='Show/Hide attributes'><svg class='icon xr-icon-file-text2'><use xlink:href='#icon-file-text2'></use></svg></label><input id='data-ee96709a-0d73-437f-86b8-75edf1587e56' class='xr-var-data-in' type='checkbox'><label for='data-ee96709a-0d73-437f-86b8-75edf1587e56' title='Show/Hide data repr'><svg class='icon xr-icon-database'><use xlink:href='#icon-database'></use></svg></label><div class='xr-var-attrs'><dl class='xr-attrs'></dl></div><div class='xr-var-data'><pre>array([30.054089, 30.116827, 30.179566, ..., 45.864089, 45.926827, 45.989565])</pre></div></li><li class='xr-var-item'><div class='xr-var-name'><span class='xr-has-index'>lon</span></div><div class='xr-var-dims'>(lon)</div><div class='xr-var-dtype'>float64</div><div class='xr-var-preview xr-preview'>280.0 280.1 280.2 ... 299.9 300.0</div><input id='attrs-fa1f24a8-15fa-4ece-bca7-41dc8f47df07' class='xr-var-attrs-in' type='checkbox' disabled><label for='attrs-fa1f24a8-15fa-4ece-bca7-41dc8f47df07' title='Show/Hide attributes'><svg class='icon xr-icon-file-text2'><use xlink:href='#icon-file-text2'></use></svg></label><input id='data-dbb73f22-7c07-4e00-8a0c-9835c9e52f63' class='xr-var-data-in' type='checkbox'><label for='data-dbb73f22-7c07-4e00-8a0c-9835c9e52f63' title='Show/Hide data repr'><svg class='icon xr-icon-database'><use xlink:href='#icon-database'></use></svg></label><div class='xr-var-attrs'><dl class='xr-attrs'></dl></div><div class='xr-var-data'><pre>array([280.032462, 280.113138, 280.193813, ..., 299.797995, 299.878671,\n",
       "       299.959347])</pre></div></li></ul></div></li><li class='xr-section-item'><input id='section-5a1b2670-5012-4b69-a9a7-1f1172d79656' class='xr-section-summary-in' type='checkbox'  checked><label for='section-5a1b2670-5012-4b69-a9a7-1f1172d79656' class='xr-section-summary' >Data variables: <span>(1)</span></label><div class='xr-section-inline-details'></div><div class='xr-section-details'><ul class='xr-var-list'><li class='xr-var-item'><div class='xr-var-name'><span>tob</span></div><div class='xr-var-dims'>(year, member, lead, lat, lon)</div><div class='xr-var-dtype'>float64</div><div class='xr-var-preview xr-preview'>8.248 8.259 8.291 ... nan nan nan</div><input id='attrs-c5eb95ca-a1ed-4d4a-863b-41b231f82a05' class='xr-var-attrs-in' type='checkbox' disabled><label for='attrs-c5eb95ca-a1ed-4d4a-863b-41b231f82a05' title='Show/Hide attributes'><svg class='icon xr-icon-file-text2'><use xlink:href='#icon-file-text2'></use></svg></label><input id='data-8cf59862-9f37-43a7-8d92-664ee9fd5b32' class='xr-var-data-in' type='checkbox'><label for='data-8cf59862-9f37-43a7-8d92-664ee9fd5b32' title='Show/Hide data repr'><svg class='icon xr-icon-database'><use xlink:href='#icon-database'></use></svg></label><div class='xr-var-attrs'><dl class='xr-attrs'></dl></div><div class='xr-var-data'><pre>array([[[[[8.24823189, 8.25936127, 8.29087353, ..., 1.6675688 ,\n",
       "           1.65963995, 1.65694988],\n",
       "          [8.26490498, 8.2523222 , 8.27948856, ..., 1.67583966,\n",
       "           1.66919005, 1.66360533],\n",
       "          [8.27660751, 8.25214481, 8.264081  , ..., 1.6787535 ,\n",
       "           1.68222964, 1.67725432],\n",
       "          ...,\n",
       "          [       nan,        nan,        nan, ...,        nan,\n",
       "                  nan,        nan],\n",
       "          [       nan,        nan,        nan, ...,        nan,\n",
       "                  nan,        nan],\n",
       "          [       nan,        nan,        nan, ...,        nan,\n",
       "                  nan,        nan]],\n",
       "\n",
       "         [[8.55250645, 8.5695858 , 8.58701611, ..., 1.66815805,\n",
       "           1.66562593, 1.66365957],\n",
       "          [8.54508591, 8.54314518, 8.55914593, ..., 1.67879617,\n",
       "           1.67632318, 1.67229342],\n",
       "          [8.5316925 , 8.50835133, 8.51448154, ..., 1.67962325,\n",
       "           1.68494785, 1.68302381],\n",
       "...\n",
       "          [       nan,        nan,        nan, ...,        nan,\n",
       "                  nan,        nan],\n",
       "          [       nan,        nan,        nan, ...,        nan,\n",
       "                  nan,        nan],\n",
       "          [       nan,        nan,        nan, ...,        nan,\n",
       "                  nan,        nan]],\n",
       "\n",
       "         [[9.11607265, 9.01486301, 8.93153858, ..., 1.65538466,\n",
       "           1.65639806, 1.65381813],\n",
       "          [9.18092537, 9.03124332, 8.91374588, ..., 1.65705407,\n",
       "           1.65952229, 1.656021  ],\n",
       "          [9.22347546, 9.0804863 , 8.92245102, ..., 1.65999711,\n",
       "           1.6658349 , 1.66235673],\n",
       "          ...,\n",
       "          [       nan,        nan,        nan, ...,        nan,\n",
       "                  nan,        nan],\n",
       "          [       nan,        nan,        nan, ...,        nan,\n",
       "                  nan,        nan],\n",
       "          [       nan,        nan,        nan, ...,        nan,\n",
       "                  nan,        nan]]]]])</pre></div></li></ul></div></li><li class='xr-section-item'><input id='section-14ba1466-41e4-445a-b7b0-423b5d5e6f1d' class='xr-section-summary-in' type='checkbox'  ><label for='section-14ba1466-41e4-445a-b7b0-423b5d5e6f1d' class='xr-section-summary' >Indexes: <span>(5)</span></label><div class='xr-section-inline-details'></div><div class='xr-section-details'><ul class='xr-var-list'><li class='xr-var-item'><div class='xr-index-name'><div>year</div></div><div class='xr-index-preview'>PandasIndex</div><input type='checkbox' disabled/><label></label><input id='index-b3c8dc8c-d543-4978-b6ef-18d15aeb0242' class='xr-index-data-in' type='checkbox'/><label for='index-b3c8dc8c-d543-4978-b6ef-18d15aeb0242' title='Show/Hide index repr'><svg class='icon xr-icon-database'><use xlink:href='#icon-database'></use></svg></label><div class='xr-index-data'><pre>PandasIndex(Index([1993.0, 1994.0, 1995.0, 1996.0, 1997.0, 1998.0, 1999.0, 2000.0, 2001.0,\n",
       "       2002.0, 2003.0, 2004.0, 2005.0, 2006.0, 2007.0, 2008.0, 2009.0, 2010.0,\n",
       "       2011.0, 2012.0, 2013.0, 2014.0, 2015.0, 2016.0, 2017.0, 2018.0, 2019.0,\n",
       "       2020.0, 2021.0, 2022.0],\n",
       "      dtype=&#x27;float64&#x27;, name=&#x27;year&#x27;))</pre></div></li><li class='xr-var-item'><div class='xr-index-name'><div>member</div></div><div class='xr-index-preview'>PandasIndex</div><input type='checkbox' disabled/><label></label><input id='index-33d744f7-3f5d-4dc4-8aee-6e88ced2c2f4' class='xr-index-data-in' type='checkbox'/><label for='index-33d744f7-3f5d-4dc4-8aee-6e88ced2c2f4' title='Show/Hide index repr'><svg class='icon xr-icon-database'><use xlink:href='#icon-database'></use></svg></label><div class='xr-index-data'><pre>PandasIndex(Index([1, 2, 3, 4, 5, 6, 7, 8, 9, 10], dtype=&#x27;int32&#x27;, name=&#x27;member&#x27;))</pre></div></li><li class='xr-var-item'><div class='xr-index-name'><div>lead</div></div><div class='xr-index-preview'>PandasIndex</div><input type='checkbox' disabled/><label></label><input id='index-bde84cd4-3b71-4b4f-995d-f78c4751a60d' class='xr-index-data-in' type='checkbox'/><label for='index-bde84cd4-3b71-4b4f-995d-f78c4751a60d' title='Show/Hide index repr'><svg class='icon xr-icon-database'><use xlink:href='#icon-database'></use></svg></label><div class='xr-index-data'><pre>PandasIndex(Index([0, 1, 2, 3, 4, 5, 6, 7, 8, 9, 10, 11], dtype=&#x27;int32&#x27;, name=&#x27;lead&#x27;))</pre></div></li><li class='xr-var-item'><div class='xr-index-name'><div>lat</div></div><div class='xr-index-preview'>PandasIndex</div><input type='checkbox' disabled/><label></label><input id='index-4b67eb0a-d92e-4789-a9a7-e832f19315e1' class='xr-index-data-in' type='checkbox'/><label for='index-4b67eb0a-d92e-4789-a9a7-e832f19315e1' title='Show/Hide index repr'><svg class='icon xr-icon-database'><use xlink:href='#icon-database'></use></svg></label><div class='xr-index-data'><pre>PandasIndex(Index([30.054089343703374, 30.116827437037678, 30.179565530371978,\n",
       "        30.24230362370628, 30.305041717040584, 30.367779810374884,\n",
       "       30.430517903709188,  30.49325599704349,  30.55599409037779,\n",
       "       30.618732183712094,\n",
       "       ...\n",
       "       45.424922210607384,  45.48766030394169,  45.55039839727599,\n",
       "        45.61313649061029,  45.67587458394459, 45.738612677278894,\n",
       "         45.8013507706132,   45.8640888639475, 45.926826957281804,\n",
       "         45.9895650506161],\n",
       "      dtype=&#x27;float64&#x27;, name=&#x27;lat&#x27;, length=255))</pre></div></li><li class='xr-var-item'><div class='xr-index-name'><div>lon</div></div><div class='xr-index-preview'>PandasIndex</div><input type='checkbox' disabled/><label></label><input id='index-6dfa4eb9-1d6e-4c49-9b56-33125597c04b' class='xr-index-data-in' type='checkbox'/><label for='index-6dfa4eb9-1d6e-4c49-9b56-33125597c04b' title='Show/Hide index repr'><svg class='icon xr-icon-database'><use xlink:href='#icon-database'></use></svg></label><div class='xr-index-data'><pre>PandasIndex(Index([280.03246213609464,  280.1131377818514, 280.19381342760806,\n",
       "       280.27448907336475, 280.35516471912143,  280.4358403648781,\n",
       "        280.5165160106348,  280.5971916563915,  280.6778673021482,\n",
       "       280.75854294790486,\n",
       "       ...\n",
       "       299.23326582618705, 299.31394147194374,  299.3946171177004,\n",
       "        299.4752927634571,  299.5559684092138,  299.6366440549705,\n",
       "       299.71731970072716, 299.79799534648384,  299.8786709922406,\n",
       "       299.95934663799727],\n",
       "      dtype=&#x27;float64&#x27;, name=&#x27;lon&#x27;, length=248))</pre></div></li></ul></div></li><li class='xr-section-item'><input id='section-6f2ee383-7137-4a79-bdda-d7717d4c6a6d' class='xr-section-summary-in' type='checkbox' disabled ><label for='section-6f2ee383-7137-4a79-bdda-d7717d4c6a6d' class='xr-section-summary'  title='Expand/collapse section'>Attributes: <span>(0)</span></label><div class='xr-section-inline-details'></div><div class='xr-section-details'><dl class='xr-attrs'></dl></div></li></ul></div></div>"
      ],
      "text/plain": [
       "<xarray.Dataset> Size: 2GB\n",
       "Dimensions:  (year: 30, member: 10, lead: 12, lat: 255, lon: 248)\n",
       "Coordinates:\n",
       "  * year     (year) float64 240B 1.993e+03 1.994e+03 ... 2.021e+03 2.022e+03\n",
       "  * member   (member) int32 40B 1 2 3 4 5 6 7 8 9 10\n",
       "  * lead     (lead) int32 48B 0 1 2 3 4 5 6 7 8 9 10 11\n",
       "  * lat      (lat) float64 2kB 30.05 30.12 30.18 30.24 ... 45.86 45.93 45.99\n",
       "  * lon      (lon) float64 2kB 280.0 280.1 280.2 280.3 ... 299.8 299.9 300.0\n",
       "Data variables:\n",
       "    tob      (year, member, lead, lat, lon) float64 2GB 8.248 8.259 ... nan nan"
      ]
     },
     "execution_count": 3,
     "metadata": {},
     "output_type": "execute_result"
    }
   ],
   "source": [
    "bt_dec = load_initialization(\"tob_forecast/Dec_init/\")\n",
    "bt_dec"
   ]
  },
  {
   "cell_type": "code",
   "execution_count": 4,
   "id": "fb88773d-1321-498a-9aca-0bd43c8177b8",
   "metadata": {},
   "outputs": [
    {
     "ename": "MemoryError",
     "evalue": "Unable to allocate 17.5 GiB for an array with shape (30, 10, 12, 844, 774) and data type float64",
     "output_type": "error",
     "traceback": [
      "\u001b[1;31m---------------------------------------------------------------------------\u001b[0m",
      "\u001b[1;31mMemoryError\u001b[0m                               Traceback (most recent call last)",
      "Cell \u001b[1;32mIn[4], line 1\u001b[0m\n\u001b[1;32m----> 1\u001b[0m bt_mar \u001b[38;5;241m=\u001b[39m load_initialization(\u001b[38;5;124m\"\u001b[39m\u001b[38;5;124mtob_forecast/March_init/\u001b[39m\u001b[38;5;124m\"\u001b[39m)\n",
      "Cell \u001b[1;32mIn[2], line 2\u001b[0m, in \u001b[0;36mload_initialization\u001b[1;34m(directory)\u001b[0m\n\u001b[0;32m      1\u001b[0m \u001b[38;5;28;01mdef\u001b[39;00m \u001b[38;5;21mload_initialization\u001b[39m(directory):\n\u001b[1;32m----> 2\u001b[0m     bt_empty \u001b[38;5;241m=\u001b[39m np\u001b[38;5;241m.\u001b[39mempty([\u001b[38;5;241m30\u001b[39m, \u001b[38;5;241m10\u001b[39m,\u001b[38;5;241m12\u001b[39m,\u001b[38;5;241m844\u001b[39m,\u001b[38;5;241m774\u001b[39m])\n\u001b[0;32m      3\u001b[0m     bt_time \u001b[38;5;241m=\u001b[39m np\u001b[38;5;241m.\u001b[39mempty(\u001b[38;5;241m30\u001b[39m)\n\u001b[0;32m      4\u001b[0m     directory \u001b[38;5;241m=\u001b[39m directory\n",
      "\u001b[1;31mMemoryError\u001b[0m: Unable to allocate 17.5 GiB for an array with shape (30, 10, 12, 844, 774) and data type float64"
     ]
    }
   ],
   "source": [
    "bt_mar = load_initialization(\"tob_forecast/March_init/\")"
   ]
  },
  {
   "cell_type": "code",
   "execution_count": null,
   "id": "7b048293-28f9-4d04-be83-3ff26dafc759",
   "metadata": {},
   "outputs": [],
   "source": [
    "bt_jun = load_initialization(\"tob_forecast/June_init/\")"
   ]
  },
  {
   "cell_type": "code",
   "execution_count": null,
   "id": "5d08e248-b2a8-4a58-a789-731b76074599",
   "metadata": {},
   "outputs": [],
   "source": [
    "bt_sep = load_initialization(\"tob_forecast/Sept_init/\")"
   ]
  },
  {
   "cell_type": "code",
   "execution_count": null,
   "id": "0abc9b48-4a42-4a6a-9d38-e40258fb4c1d",
   "metadata": {},
   "outputs": [],
   "source": [
    "test = xr.open_dataset('tob_forecast/March_init/tob.nwa.full.ss_refcast.monthly.regrid.r20240213.enss.i202003.nc')"
   ]
  },
  {
   "cell_type": "code",
   "execution_count": null,
   "id": "2800f1a2-9659-402e-8ae5-8083f0384f7a",
   "metadata": {},
   "outputs": [],
   "source": [
    "pn.to_datetime(test.init.values).year"
   ]
  },
  {
   "cell_type": "code",
   "execution_count": null,
   "id": "5ca7ff2d-b2d6-471c-a311-416305c696f3",
   "metadata": {},
   "outputs": [],
   "source": [
    "bt_mar_subset = bt_mar.sel(lat = slice(30,48), lon = slice(360-80, 360-63))\n",
    "bt_dec_subset = bt_dec.sel(lat = slice(30,48), lon = slice(360-80, 360-63))"
   ]
  },
  {
   "cell_type": "code",
   "execution_count": null,
   "id": "45c9c3d3-a10c-45f3-b376-af6b3d83099a",
   "metadata": {},
   "outputs": [],
   "source": [
    "bt_forecast_mar_mab = reupy.crop_nd(bt_forecast_mar, 'lon', 'lat', mab)\n",
    "bt_forecast_june_mab = reupy.crop_nd(bt_forecast_june, 'lon', 'lat', mab)\n",
    "bt_forecast_sept_mab = reupy.crop_nd(bt_forecast_sept, 'lon', 'lat', mab)\n",
    "bt_forecast_dec_mab = reupy.crop_nd(bt_forecast_dec, 'lon', 'lat', mab)"
   ]
  },
  {
   "cell_type": "code",
   "execution_count": null,
   "id": "334259d0-409b-4694-97b8-cf927883174a",
   "metadata": {},
   "outputs": [],
   "source": [
    "#copernicusmarine.subset(\n",
    "#  dataset_id=\"cmems_mod_glo_phy_my_0.083deg_P1M-m\",\n",
    "#  variables=[\"bottomT\"],\n",
    "#  minimum_longitude=-80,\n",
    "#  maximum_longitude=-60,\n",
    "#  minimum_latitude=30,\n",
    "#  maximum_latitude=50,\n",
    "#  start_datetime=\"1993-01-01T00:00:00\",\n",
    "#  end_datetime=\"2021-06-01T23:59:59\",\n",
    "#  output_filename = \"GLORYS_BT.nc\",\n",
    "#  output_directory = \"Cold Pool\"\n",
    ")"
   ]
  },
  {
   "cell_type": "code",
   "execution_count": null,
   "id": "c848a17a-d3c3-44aa-be59-ed473d67bbfb",
   "metadata": {},
   "outputs": [],
   "source": [
    "# Cold Pool Comparisons\n",
    "\n",
    "# Mean Temp in the CP - monthly, and annual\n",
    "# Min Temp in the CP - monthly, and annual\n",
    "# Month of dissappearance\n",
    "# area of the CP in each month\n",
    "# some kind of spatial correlation over time"
   ]
  },
  {
   "cell_type": "code",
   "execution_count": null,
   "id": "3835fbb4-0cfd-4f5d-a402-cee47fd5ca28",
   "metadata": {},
   "outputs": [],
   "source": [
    "# First establish the cold pool region - MAB, less than 200m deep"
   ]
  },
  {
   "cell_type": "code",
   "execution_count": null,
   "id": "180dec5c-b53c-4dae-854a-6ac89fb66431",
   "metadata": {},
   "outputs": [],
   "source": [
    "# load the shapefile\n",
    "epu = gpd.read_file('C:/Users/Laura.Gruenburg/Desktop/Projects/MOM6_Validation/SOE/EPU_shape/EPU_NOESTUARIES.shp')\n",
    "mab = epu[epu.EPU == 'MAB']"
   ]
  },
  {
   "cell_type": "code",
   "execution_count": null,
   "id": "2d8e2be1-7731-4806-a152-5d38d644c721",
   "metadata": {},
   "outputs": [],
   "source": [
    "bt_gl = xr.open_dataset('Glorys/GLORYS_BT.nc')"
   ]
  },
  {
   "cell_type": "code",
   "execution_count": null,
   "id": "f718c22d-1814-4160-bd32-9c6455e8d1bd",
   "metadata": {},
   "outputs": [],
   "source": [
    "bt_gl_subset = bt_gl.sel(latitude = slice(30,48), longitude = slice(-80, -65))"
   ]
  },
  {
   "cell_type": "code",
   "execution_count": null,
   "id": "02221ab2-605c-40be-ab9f-490313271d4f",
   "metadata": {},
   "outputs": [],
   "source": [
    "bt_dec_mab = reupy.crop_nd(bt_dec_subset, 'lon', 'lat', mab)"
   ]
  },
  {
   "cell_type": "code",
   "execution_count": null,
   "id": "c386f3c8-dd32-43de-97ba-16b9903f65c9",
   "metadata": {},
   "outputs": [],
   "source": [
    "bt_mar_mab = reupy.crop_nd(bt_mar_subset, 'lon', 'lat', mab)"
   ]
  },
  {
   "cell_type": "code",
   "execution_count": null,
   "id": "51629b46-1fe2-4968-bcf6-cb0f673657a6",
   "metadata": {},
   "outputs": [],
   "source": [
    "bt_gl_mab = reupy.crop_nd(bt_gl_subset, 'longitude','latitude', mab)"
   ]
  },
  {
   "cell_type": "code",
   "execution_count": null,
   "id": "0da8cb32-4793-4298-ae17-899c3860a91e",
   "metadata": {},
   "outputs": [],
   "source": [
    "# bathymetry for mom6\n",
    "static = xr.open_dataset('C:/Users/Laura.Gruenburg/Desktop/Projects/MOM6_Validation/ocean_static_deptho.nc')\n",
    "\n",
    "# bathymetry for glorys\n",
    "bathymetry = xr.open_dataset('C:/Users/Laura.Gruenburg/Desktop/Projects/MOM6_Validation/SOE/GLO-MFC_001_024_mask_bathy.nc')"
   ]
  },
  {
   "cell_type": "code",
   "execution_count": null,
   "id": "df1b9acc-b094-4c21-9364-8b484e3c4b1c",
   "metadata": {},
   "outputs": [],
   "source": [
    "#Get bathymetry in the same region\n",
    "bathy_match = bathymetry.sel(latitude = slice(np.min(bt_gl_subset.latitude), np.max(bt_gl_subset.latitude)),\n",
    "                      longitude = slice(np.min(bt_gl_subset.longitude),  np.max(bt_gl_subset.longitude)))"
   ]
  },
  {
   "cell_type": "code",
   "execution_count": null,
   "id": "e3a4f276-0125-4755-b85b-bcda0e01d70f",
   "metadata": {},
   "outputs": [],
   "source": [
    "static_match = static.sel(lat = slice(30,48), lon = slice(360-80, 360-63))"
   ]
  },
  {
   "cell_type": "code",
   "execution_count": null,
   "id": "75538f60-47e7-49cc-9d98-5f3c2dcfc718",
   "metadata": {},
   "outputs": [],
   "source": [
    "bt_gl_mab_200 = bt_gl_mab.where(bathy_match.deptho < 200)"
   ]
  },
  {
   "cell_type": "code",
   "execution_count": null,
   "id": "1fe38644-b3c5-4d4c-bcc4-77d2653e9cb2",
   "metadata": {},
   "outputs": [],
   "source": [
    "bt_dec_mab_200 = bt_dec_mab.where(static_match.deptho < 200)"
   ]
  },
  {
   "cell_type": "code",
   "execution_count": null,
   "id": "f2dfe102-957d-4ec0-918e-fa90b0f2f934",
   "metadata": {},
   "outputs": [],
   "source": [
    "bt_mar_mab_200 = bt_mar_mab.where(static_match.deptho < 200)"
   ]
  },
  {
   "cell_type": "code",
   "execution_count": null,
   "id": "2af48a33-f6b5-498d-92e5-41973900cc20",
   "metadata": {},
   "outputs": [],
   "source": [
    "# 3. Select for june july august september october\n",
    "def is_jjaso(month):\n",
    "    return (month >= 6) & (month <= 10)\n",
    "\n",
    "bt_gl_mab_200_jjaso = bt_gl_mab_200.sel(time=is_jjaso(bt_gl_mab_200['time.month']))"
   ]
  },
  {
   "cell_type": "code",
   "execution_count": null,
   "id": "4dc2f207-ae37-4a89-9fe1-ddc267ce4e0a",
   "metadata": {},
   "outputs": [],
   "source": [
    "bt_dec_mab_200_jjaso = bt_dec_mab_200.sel(lead=is_jjaso(bt_dec_mab_200.lead))"
   ]
  },
  {
   "cell_type": "code",
   "execution_count": null,
   "id": "c230bd7f-4571-4339-9c6d-8184a227556e",
   "metadata": {},
   "outputs": [],
   "source": [
    "bt_mar_mab_200_jjaso = bt_mar_mab_200.sel(lead=is_jjaso(bt_mar_mab_200.lead+3))"
   ]
  },
  {
   "cell_type": "code",
   "execution_count": null,
   "id": "5a95353a-0617-49f3-b99d-5a232d5f1232",
   "metadata": {},
   "outputs": [],
   "source": [
    "dec_mins = bt_dec_mab_200_jjaso.where(bt_dec_mab_200_jjaso.tob <=10).min(['lat','lon'])\n",
    "mar_mins = bt_mar_mab_200_jjaso.where(bt_mar_mab_200_jjaso.tob <=10).min(['lat','lon'])\n",
    "gl_mins = bt_gl_mab_200_jjaso.where(bt_gl_mab_200_jjaso.bottomT <=10).min(['latitude','longitude'])"
   ]
  },
  {
   "cell_type": "code",
   "execution_count": null,
   "id": "59bee1d2-30ec-4dc2-9539-81ea3ac243ab",
   "metadata": {},
   "outputs": [],
   "source": [
    "dec_mins_annual = bt_dec_mab_200_jjaso.where(bt_dec_mab_200_jjaso.tob <=10).min(['lat','lon','lead'])\n",
    "mar_mins_annual = bt_mar_mab_200_jjaso.where(bt_mar_mab_200_jjaso.tob <=10).min(['lat','lon','lead'])\n",
    "gl_mins_annual = bt_gl_mab_200_jjaso.where(bt_gl_mab_200_jjaso.bottomT <=10).groupby('time.year').min(['latitude','longitude','time'])"
   ]
  },
  {
   "cell_type": "code",
   "execution_count": null,
   "id": "4f74810f-4863-48d4-958a-012a3ede2113",
   "metadata": {},
   "outputs": [],
   "source": [
    "dec_mean = bt_dec_mab_200_jjaso.where(bt_dec_mab_200_jjaso.tob <=10).mean(['lat','lon'])\n",
    "mar_mean = bt_mar_mab_200_jjaso.where(bt_mar_mab_200_jjaso.tob <=10).mean(['lat','lon'])\n",
    "gl_mean = bt_gl_mab_200_jjaso.where(bt_gl_mab_200_jjaso.bottomT <=10).mean(['latitude','longitude'])"
   ]
  },
  {
   "cell_type": "code",
   "execution_count": null,
   "id": "bda35cf9-c86b-45a9-a5f0-7e10a6fc194e",
   "metadata": {},
   "outputs": [],
   "source": [
    "dec_mean_annual = bt_dec_mab_200_jjaso.where(bt_dec_mab_200_jjaso.tob <=10).mean(['lat','lon','lead'])\n",
    "mar_mean_annual = bt_mar_mab_200_jjaso.where(bt_mar_mab_200_jjaso.tob <=10).mean(['lat','lon','lead'])\n",
    "gl_mean_annual = bt_gl_mab_200_jjaso.where(bt_gl_mab_200_jjaso.bottomT <=10).groupby('time.year').mean(['latitude','longitude','time'])"
   ]
  },
  {
   "cell_type": "code",
   "execution_count": null,
   "id": "74ed2646-75a7-40e8-b814-00603445ab2c",
   "metadata": {},
   "outputs": [],
   "source": [
    "dec_mins_emean = bt_dec_mab_200_jjaso.where(bt_dec_mab_200_jjaso.tob <=10).mean(['member']).min(['lat','lon'])\n",
    "mar_mins_emean = bt_mar_mab_200_jjaso.where(bt_mar_mab_200_jjaso.tob <=10).mean(['member']).min(['lat','lon'])"
   ]
  },
  {
   "cell_type": "code",
   "execution_count": null,
   "id": "e10550c5-33e4-4dc6-a257-86b09effab0e",
   "metadata": {},
   "outputs": [],
   "source": [
    "dec_mins_emean_annual = bt_dec_mab_200_jjaso.where(bt_dec_mab_200_jjaso.tob <=10).mean(['member']).min(['lat','lon','lead'])\n",
    "mar_mins_emean_annual = bt_mar_mab_200_jjaso.where(bt_mar_mab_200_jjaso.tob <=10).mean(['member']).min(['lat','lon','lead'])"
   ]
  },
  {
   "cell_type": "code",
   "execution_count": null,
   "id": "58b7f985-33aa-4b6f-bc0b-3681fa9e9b3c",
   "metadata": {},
   "outputs": [],
   "source": [
    "dec_mean_emean = bt_dec_mab_200_jjaso.where(bt_dec_mab_200_jjaso.tob <=10).mean(['member']).mean(['lat','lon'])\n",
    "mar_mean_emean = bt_mar_mab_200_jjaso.where(bt_mar_mab_200_jjaso.tob <=10).mean(['member']).mean(['lat','lon'])"
   ]
  },
  {
   "cell_type": "code",
   "execution_count": null,
   "id": "385c8244-821b-42b8-ba70-ed94fb2f48e9",
   "metadata": {},
   "outputs": [],
   "source": [
    "dec_mean_emean_annual = bt_dec_mab_200_jjaso.where(bt_dec_mab_200_jjaso.tob <=10).mean(['member']).mean(['lat','lon','lead'])\n",
    "mar_mean_emean_annual = bt_mar_mab_200_jjaso.where(bt_mar_mab_200_jjaso.tob <=10).mean(['member']).mean(['lat','lon','lead'])"
   ]
  },
  {
   "cell_type": "code",
   "execution_count": null,
   "id": "bb7e5aae-8446-4b6e-b7ad-654a912df6a4",
   "metadata": {},
   "outputs": [],
   "source": [
    "for i in dec_mins.member:\n",
    "    plt.plot(dec_mins.tob[1,i-1,:],color = 'grey')\n",
    "plt.plot(dec_emins.tob[1,:def is_month(month, ref_month):\n",
    "    return (month == ref_month),:].mean('member'), color = 'k')\n",
    "plt.plot(gl_mins.bottomT[5:10])"
   ]
  },
  {
   "cell_type": "code",
   "execution_count": null,
   "id": "3eec1714-37f0-40f5-8c8c-44f3e8b76ec1",
   "metadata": {},
   "outputs": [],
   "source": [
    "gl_mins_annual"
   ]
  },
  {
   "cell_type": "code",
   "execution_count": null,
   "id": "0e4190c5-6ce3-4847-9ce0-6063859f7cb9",
   "metadata": {},
   "outputs": [],
   "source": [
    "def is_month(month, ref_month):\n",
    "    return (month == ref_month)"
   ]
  },
  {
   "cell_type": "code",
   "execution_count": null,
   "id": "4e081a50-614f-4f35-809e-b35daee18db9",
   "metadata": {},
   "outputs": [],
   "source": [
    "def monthly_plots(init_month, variable, forecast_data, gl_data, forecast_means, add_to_six):\n",
    "    fig,ax = plt.subplots(nrows = 5, figsize = [10,35])\n",
    "    titles = ['June', 'July','August','September','October']\n",
    "    init = init_month + ' Init CP ' + variable + ' Temp'\n",
    "    R = np.empty(4)\n",
    "    P = np.empty(4)\n",
    "    for i in range(5):\n",
    "        data_forecast = forecast_data.tob[:,:,i]\n",
    "        data_emean = forecast_means.tob[:,i]\n",
    "        color = ['b','g','orange','yellow','red']\n",
    "        position = pn.date_range('1993-' + str(i+add_to_six) + '-15', '2022-'+ str(i+add_to_six) + '-15', periods=30)\n",
    "        for j in range(10):\n",
    "            ax[i].scatter(position, data_forecast[:,j], c= color[i])\n",
    "        ax[i].scatter(gl_data.where(gl_data['time.month'] == i+6).time, gl_data.where(gl_data['time.month'] == i+6).bottomT, c = 'k', marker = 's')\n",
    "        ax[i].scatter(position, data_emean, edgecolor = 'k', facecolor = color[i])\n",
    "        ax[i].plot(position, data_emean, color = color[i], linestyle = '-.', label = 'MOM6')\n",
    "        ax[i].plot(gl_data.sel(time = is_month(gl_data['time.month'], i+6)).time, gl_data.sel(time = is_month(gl_data['time.month'], i+6)).bottomT, color = 'k', label = 'GLORYS')\n",
    "        ax[i].legend()\n",
    "        ax[i].set_title(init + ' ' + titles[i])\n"
   ]
  },
  {
   "cell_type": "code",
   "execution_count": null,
   "id": "f8c43d50-d35f-4629-b9a8-2832d1ea52b5",
   "metadata": {},
   "outputs": [],
   "source": [
    "def monthly_plots_mar(init_month, variable, forecast_data, gl_data, forecast_means, add_to_six):\n",
    "    fig,ax = plt.subplots(nrows = 5, figsize = [10,35])\n",
    "    titles = ['June', 'July','August','September','October']\n",
    "    init = init_month + ' Init CP ' + variable + ' Temp'\n",
    "    R = np.empty(4)\n",
    "    P = np.empty(4)\n",
    "    for i in range(5):\n",
    "        data_forecast = forecast_data.tob[:27,:,i]\n",
    "        data_emean = forecast_means.tob[:27,i]\n",
    "        color = ['b','g','orange','yellow','red']\n",
    "        position = pn.date_range('1993-' + str(i+add_to_six) + '-15', '2019-'+ str(i+add_to_six) + '-15', periods=27)\n",
    "        for j in range(10):\n",
    "            ax[i].scatter(position, data_forecast[:,j], c= color[i])\n",
    "        ax[i].scatter(gl_data.where(gl_data['time.month'] == i+6).time[:27], gl_data.where(gl_data['time.month'] == i+6).bottomT[:27], c = 'k', marker = 's')\n",
    "        ax[i].scatter(position, data_emean[:27], edgecolor = 'k', facecolor = color[i])\n",
    "        ax[i].plot(position, data_emean[:27], color = color[i], linestyle = '-.', label = 'MOM6')\n",
    "        ax[i].plot(gl_data.sel(time = is_month(gl_data['time.month'], i+6)).time[:27], gl_data.sel(time = is_month(gl_data['time.month'], i+6)).bottomT[:27], color = 'k', label = 'GLORYS')\n",
    "        ax[i].legend()\n",
    "        ax[i].set_title(init + ' ' + titles[i])"
   ]
  },
  {
   "cell_type": "code",
   "execution_count": null,
   "id": "b20e5b14-8131-48d5-bcbc-a1dc4e4b54b3",
   "metadata": {},
   "outputs": [],
   "source": [
    "def annual_plots(init_month, variable, forecast_data, gl_data, forecast_means):\n",
    "    fig,ax = plt.subplots(figsize = [10,5])\n",
    "    init = init_month + ' Init CP ' + variable + ' Temp'\n",
    "    position = pn.date_range('1993', '2022', periods=30)\n",
    "    for j in range(10):\n",
    "        ax.scatter(position[:len(forecast_data.tob)], forecast_data.tob[:,j], c= 'magenta')\n",
    "    ax.scatter(position[:len(gl_data.bottomT)], gl_data.bottomT, c = 'k', marker = 's')\n",
    "    ax.scatter(position[:len(forecast_means.tob)], forecast_means.tob, edgecolor = 'k', facecolor = 'magenta')\n",
    "    ax.plot(position[:len(forecast_means.tob)], forecast_means.tob, color = 'magenta', linestyle = '-.', label = 'MOM6')\n",
    "    ax.plot(position[:len(gl_data.bottomT)], gl_data.bottomT, color = 'k', label = 'GLORYS')\n",
    "    ax.legend()\n",
    "    ax.set_title(init)"
   ]
  },
  {
   "cell_type": "code",
   "execution_count": null,
   "id": "3067912f-a1f9-4103-8b43-d95bcea0204a",
   "metadata": {},
   "outputs": [],
   "source": [
    "def annual_plots_mar(init_month, variable, forecast_data, gl_data, forecast_means):\n",
    "    fig,ax = plt.subplots(figsize = [10,5])\n",
    "    init = init_month + ' Init CP ' + variable + ' Temp'\n",
    "    position = pn.date_range('1993', '2022', periods=30)\n",
    "    for j in range(10):\n",
    "        ax.scatter(position[:len(forecast_data.tob[:27,j])], forecast_data.tob[:27,j], c= 'magenta')\n",
    "    ax.scatter(position[:len(gl_data.bottomT[:27])], gl_data.bottomT[:27], c = 'k', marker = 's')\n",
    "    ax.scatter(position[:len(forecast_means.tob[:27])], forecast_means.tob[:27], edgecolor = 'k', facecolor = 'magenta')\n",
    "    ax.plot(position[:len(forecast_means.tob[:27])], forecast_means.tob[:27], color = 'magenta', linestyle = '-.', label = 'MOM6')\n",
    "    ax.plot(position[:len(gl_data.bottomT[:27])], gl_data.bottomT[:27], color = 'k', label = 'GLORYS')\n",
    "    ax.legend()\n",
    "    ax.set_title(init)"
   ]
  },
  {
   "cell_type": "code",
   "execution_count": null,
   "id": "6fb5caba-ad37-453b-87fe-ebefa2f35a62",
   "metadata": {},
   "outputs": [],
   "source": [
    "plt.imshow(mar_mins.tob[:,:,0])"
   ]
  },
  {
   "cell_type": "code",
   "execution_count": null,
   "id": "c5897222-f55e-4a20-ba0d-443c69d4cb8c",
   "metadata": {},
   "outputs": [],
   "source": []
  },
  {
   "cell_type": "code",
   "execution_count": null,
   "id": "52a44971-2f2c-4377-8ffa-6284acd2aa04",
   "metadata": {},
   "outputs": [],
   "source": [
    "def annual_plots(init_month, variable, forecast_data, gl_data, forecast_means):\n",
    "    fig,ax = plt.subplots(figsize = [10,5])\n",
    "    init = init_month + ' Init CP ' + variable + ' Temp'\n",
    "    position = pn.date_range('1993', '2022', periods=30)\n",
    "    for j in range(10):\n",
    "        ax.scatter(position[:len(forecast_data.tob)], forecast_data.tob[:,j], c= 'magenta')\n",
    "    ax.scatter(position[:len(gl_data.bottomT)], gl_data.bottomT, c = 'k', marker = 's')\n",
    "    ax.scatter(position[:len(forecast_means.tob)], forecast_means.tob, edgecolor = 'k', facecolor = 'magenta')\n",
    "    ax.plot(position[:len(forecast_means.tob)], forecast_means.tob, color = 'magenta', linestyle = '-.', label = 'MOM6')\n",
    "    ax.plot(position[:len(gl_data.bottomT)], gl_data.bottomT, color = 'k', label = 'GLORYS')\n",
    "    ax.legend()\n",
    "    ax.set_title(init)\n"
   ]
  },
  {
   "cell_type": "code",
   "execution_count": null,
   "id": "00ef9575-afae-4eee-9ccc-3ac237faafcf",
   "metadata": {
    "scrolled": true
   },
   "outputs": [],
   "source": [
    "monthly_plots('December', 'Min', dec_mins, gl_mins, dec_mins_emean, 6)"
   ]
  },
  {
   "cell_type": "code",
   "execution_count": null,
   "id": "142273d2-e49f-46a6-92cc-4b88151106c4",
   "metadata": {},
   "outputs": [],
   "source": [
    "monthly_plots_mar('March', 'Min', mar_mins, gl_mins, mar_mins_emean, 3)"
   ]
  },
  {
   "cell_type": "code",
   "execution_count": null,
   "id": "57992622-63b9-4a52-a7fb-51977eaffb1f",
   "metadata": {},
   "outputs": [],
   "source": [
    "monthly_plots('December', 'Mean', dec_mean, gl_mean, dec_mean_emean, 6)"
   ]
  },
  {
   "cell_type": "code",
   "execution_count": null,
   "id": "c5c4659c-db5a-4589-b8d3-21ee9f04dc36",
   "metadata": {
    "scrolled": true
   },
   "outputs": [],
   "source": [
    "monthly_plots_mar('March', 'Mean', mar_mean, gl_mean, mar_mean_emean, 3)"
   ]
  },
  {
   "cell_type": "code",
   "execution_count": null,
   "id": "07819bc8-814b-487e-a4db-0d59f0df2e49",
   "metadata": {},
   "outputs": [],
   "source": [
    "annual_plots('December', 'Min', dec_mins_annual, gl_mins_annual, dec_mins_emean_annual)"
   ]
  },
  {
   "cell_type": "code",
   "execution_count": null,
   "id": "d991219a-d2f8-4359-8248-4dfeee2553b9",
   "metadata": {},
   "outputs": [],
   "source": [
    "annual_plots('December', 'Mean', dec_mean_annual, gl_mean_annual, dec_mean_emean_annual)"
   ]
  },
  {
   "cell_type": "code",
   "execution_count": null,
   "id": "cb9b11bc-3ef5-4421-be8c-c93744cac25e",
   "metadata": {},
   "outputs": [],
   "source": [
    "sio.stats.pearsonr(gl_mins_annual.bottomT[:27], mar_mins_emean_annual.tob[:27])"
   ]
  },
  {
   "cell_type": "code",
   "execution_count": null,
   "id": "1b3c54ce-8cca-4595-9e5f-00f65076b381",
   "metadata": {},
   "outputs": [],
   "source": [
    "annual_plots_mar('March', 'Min', mar_mins_annual, gl_mins_annual, mar_mins_emean_annual)"
   ]
  },
  {
   "cell_type": "code",
   "execution_count": null,
   "id": "4fc93791-2645-4470-aa0d-60979d29b50b",
   "metadata": {},
   "outputs": [],
   "source": [
    "sio.stats.pearsonr(gl_mean_annual.bottomT[:29], dec_mean_emean_annual.tob[:29])"
   ]
  },
  {
   "cell_type": "code",
   "execution_count": null,
   "id": "d59db061-3c43-4eb1-950a-2609112c9c57",
   "metadata": {},
   "outputs": [],
   "source": [
    "annual_plots_mar('March', 'Mean', mar_mean_annual, gl_mean_annual, mar_mean_emean_annual)"
   ]
  },
  {
   "cell_type": "code",
   "execution_count": null,
   "id": "7a7f3dba-78f4-4db2-93d6-4a23b8c45f13",
   "metadata": {},
   "outputs": [],
   "source": [
    "sio.stats.pearsonr(gl_mean_annual.bottomT[:27], mar_mean_emean_annual.tob[:27])"
   ]
  },
  {
   "cell_type": "code",
   "execution_count": null,
   "id": "191d5588-9c21-46e2-8a45-3ea87aa44031",
   "metadata": {
    "scrolled": true
   },
   "outputs": [],
   "source": [
    "    fig,ax = plt.subplots(figsize = [10,5])\n",
    "    init = 'March' + ' Init CP ' + 'Mean' + ' Temp'\n",
    "    position = pn.date_range('1993', '2022', periods=30)\n",
    "    for j in range(10):\n",
    "        ax.scatter(position[:len(mar_mean_annual.tob[:27])], mar_mean_annual.tob[:27,j], c= 'magenta')\n",
    "    ax.scatter(position[:len(gl_mean_annual.bottomT)], gl_mean_annual.bottomT, c = 'k', marker = 's')\n",
    "    ax.scatter(position[:len(mar_mean_emean_annual.tob[:27])], mar_mean_emean_annual.tob[:27], edgecolor = 'k', facecolor = 'magenta')\n",
    "    ax.plot(position[:len(mar_mean_emean_annual.tob[:27])], mar_mean_emean_annual.tob[:27], color = 'magenta', linestyle = '-.', label = 'MOM6')\n",
    "    ax.plot(position[:len(gl_mean_annual.bottomT)], gl_mean_annual.bottomT, color = 'k', label = 'GLORYS')\n",
    "    ax.legend()\n",
    "    ax.set_title(init)"
   ]
  },
  {
   "cell_type": "code",
   "execution_count": null,
   "id": "030af940-b30c-4a72-9678-f05014c9f7d3",
   "metadata": {
    "scrolled": true
   },
   "outputs": [],
   "source": [
    "fig,ax = plt.subplots(nrows = 5, figsize = [10,35])\n",
    "titles = ['June', 'July','August','September','October']\n",
    "init = 'December Init CP Min Temp'\n",
    "for i in range(5):\n",
    "    data_dec_forecast = dec_mins.tob[:,:,i]\n",
    "    data_dec_emean = dec_mins_emean.tob[:,i]\n",
    "    color = ['b','g','orange','yellow','red']\n",
    "    position = pn.date_range('1993-' + str(i+6) + '-15', '2022-'+ str(i+6) + '-15', periods=30)\n",
    "    for j in range(10):\n",
    "        ax[i].scatter(position, data_dec_forecast[:,j], c= color[i])\n",
    "    ax[i].scatter(gl_mins.where(gl_mins['time.month'] == i+6).time, gl_mins.where(gl_mins['time.month'] == i+6).bottomT, c = 'k', marker = 's')\n",
    "    ax[i].scatter(position, data_dec_emean, edgecolor = 'k', facecolor = color[i])\n",
    "    ax[i].plot(position, data_dec_emean, color = color[i], linestyle = '-.', label = 'MOM6')\n",
    "    ax[i].plot(gl_mins.sel(time = is_month(gl_mins['time.month'], i+6)).time, gl_mins.sel(time = is_month(gl_mins['time.month'], i+6)).bottomT, color = 'k', label = 'GLORYS')\n",
    "    ax[i].legend()\n",
    "    ax[i].set_title(init + ' ' + titles[i])"
   ]
  },
  {
   "cell_type": "code",
   "execution_count": null,
   "id": "118f60cd-82c7-4728-ac89-a31767a0caf3",
   "metadata": {},
   "outputs": [],
   "source": [
    "dec_mins_emean.tob[:-2,3]"
   ]
  },
  {
   "cell_type": "code",
   "execution_count": null,
   "id": "e2426f9f-cbdb-4b74-be2a-3ede7065f3c3",
   "metadata": {},
   "outputs": [],
   "source": [
    "r_min = np.empty([3,2])\n",
    "p_min = np.empty([3,2])\n",
    "\n",
    "r_min[0,0] = sio.stats.pearsonr(dec_mins_emean.tob[:-1,0], gl_mins.bottomT[np.arange(0,141,5)])[0]\n",
    "p_min[0,0] = sio.stats.pearsonr(dec_mins_emean.tob[:-1,0], gl_mins.bottomT[np.arange(0,141,5)])[1]\n",
    "\n",
    "r_min[0,1] = sio.stats.pearsonr(mar_mins_emean.tob[:27,0], gl_mins.bottomT[np.arange(0,141,5)][:27])[0]\n",
    "p_min[0,1] = sio.stats.pearsonr(mar_mins_emean.tob[:27,0], gl_mins.bottomT[np.arange(0,141,5)][:27])[1]\n",
    "\n",
    "for i in range(1,3):\n",
    "    r_min[i,0] = sio.stats.pearsonr(dec_mins_emean.tob[:-2,i], gl_mins.bottomT[np.arange(i,141,5)])[0]\n",
    "    p_min[i,0] = sio.stats.pearsonr(dec_mins_emean.tob[:-2,i], gl_mins.bottomT[np.arange(i,141,5)])[1]\n",
    "\n",
    "    r_min[i,1] = sio.stats.pearsonr(mar_mins_emean.tob[:27,i], gl_mins.bottomT[np.arange(i,141,5)][:27])[0]\n",
    "    p_min[i,1] = sio.stats.pearsonr(mar_mins_emean.tob[:27,i], gl_mins.bottomT[np.arange(i,141,5)][:27])[1]"
   ]
  },
  {
   "cell_type": "code",
   "execution_count": null,
   "id": "ed5c9031-51bc-4aa1-b71f-2ead58b2baaf",
   "metadata": {},
   "outputs": [],
   "source": [
    "p_mean"
   ]
  },
  {
   "cell_type": "code",
   "execution_count": null,
   "id": "01ba77ef-f48d-4072-9c6e-6f4b52e3bd36",
   "metadata": {},
   "outputs": [],
   "source": [
    "r_mean = np.empty([3,2])\n",
    "p_mean = np.empty([3,2])\n",
    "\n",
    "r_mean[0,0] = sio.stats.pearsonr(dec_mean_emean.tob[:-1,0], gl_mean.bottomT[np.arange(0,141,5)])[0]\n",
    "p_mean[0,0] = sio.stats.pearsonr(dec_mean_emean.tob[:-1,0], gl_mean.bottomT[np.arange(0,141,5)])[1]\n",
    "\n",
    "r_mean[0,1] = sio.stats.pearsonr(mar_mean_emean.tob[:27,0], gl_mean.bottomT[np.arange(0,141,5)][:27])[0]\n",
    "p_mean[0,1] = sio.stats.pearsonr(mar_mean_emean.tob[:27,0], gl_mean.bottomT[np.arange(0,141,5)][:27])[1]\n",
    "\n",
    "for i in range(1,3):\n",
    "    r_mean[i,0] = sio.stats.pearsonr(dec_mean_emean.tob[:-2,i], gl_mean.bottomT[np.arange(i,141,5)])[0]\n",
    "    p_mean[i,0] = sio.stats.pearsonr(dec_mean_emean.tob[:-2,i], gl_mean.bottomT[np.arange(i,141,5)])[1]\n",
    "\n",
    "    r_mean[i,1] = sio.stats.pearsonr(mar_mean_emean.tob[:27,i], gl_mean.bottomT[np.arange(i,141,5)][:27])[0]\n",
    "    p_mean[i,1] = sio.stats.pearsonr(mar_mean_emean.tob[:27,i], gl_mean.bottomT[np.arange(i,141,5)][:27])[1]"
   ]
  },
  {
   "cell_type": "code",
   "execution_count": null,
   "id": "bac8c866-cb59-4401-ab9f-34958a17eefb",
   "metadata": {},
   "outputs": [],
   "source": [
    "plt.matshow(p_mean)\n",
    "plt.colorbar()"
   ]
  },
  {
   "cell_type": "code",
   "execution_count": null,
   "id": "21ad6a03-0ab9-4611-906a-c1104cf4bc6e",
   "metadata": {},
   "outputs": [],
   "source": [
    "fig,ax = plt.subplots(nrows = 5, figsize = [10,35])\n",
    "titles = ['June', 'July','August','September','October']\n",
    "init = 'March Init CP Min Temp'\n",
    "for i in range(5):\n",
    "    data_mar_forecast = mar_mins.tob[:,:,i]\n",
    "    data_mar_emean = mar_mins_emean.tob[:,i]\n",
    "    color = ['b','g','orange','yellow','red']\n",
    "    position = pn.date_range('1993-' + str(i+3) + '-15', '2022-'+ str(i+3) + '-15', periods=30)\n",
    "    for j in range(10):\n",
    "        ax[i].scatter(position, data_mar_forecast[:,j], c= color[i])\n",
    "    ax[i].scatter(gl_mins.where(gl_mins['time.month'] == i+6).time, gl_mins.where(gl_mins['time.month'] == i+6).bottomT, c = 'k', marker = 's')\n",
    "    ax[i].scatter(position, data_mar_emean, edgecolor = 'k', facecolor = color[i])\n",
    "    ax[i].plot(position, data_mar_emean, color = color[i], linestyle = '-.', label = 'MOM6')\n",
    "    ax[i].plot(gl_mins.sel(time = is_month(gl_mins['time.month'], i+6)).time, gl_mins.sel(time = is_month(gl_mins['time.month'], i+6)).bottomT, color = 'k', label = 'GLORYS')\n",
    "    ax[i].legend()\n",
    "    ax[i].set_title(init + ' ' + titles[i])\n"
   ]
  },
  {
   "cell_type": "code",
   "execution_count": null,
   "id": "9b9cc85c-a95c-4a25-91a3-1fda0045ee30",
   "metadata": {},
   "outputs": [],
   "source": [
    "pn.date_range(str(int(dec_mins.year[i].values))+'-06', str(int(dec_mins.year[i].values))+'-10', freq='MS')"
   ]
  },
  {
   "cell_type": "code",
   "execution_count": null,
   "id": "7fcaf25f-41c6-465f-8bf8-cb3ddb1514fb",
   "metadata": {},
   "outputs": [],
   "source": [
    "gl_mins"
   ]
  },
  {
   "cell_type": "code",
   "execution_count": null,
   "id": "05c0d519-7b98-45a6-861c-3dc2ec6de7ef",
   "metadata": {},
   "outputs": [],
   "source": [
    "gl_mins.bottomT[np.arange(0,141,5)]"
   ]
  },
  {
   "cell_type": "code",
   "execution_count": null,
   "id": "82af5294-1e2f-4d0a-9576-c2d5c3e893c9",
   "metadata": {},
   "outputs": [],
   "source": [
    "mar_mins"
   ]
  },
  {
   "cell_type": "code",
   "execution_count": null,
   "id": "d4a0d8e6-cfa0-4603-9937-21580a1ceb1d",
   "metadata": {},
   "outputs": [],
   "source": [
    "bt_forecast_mar_mab.mean(['lat','lon'])"
   ]
  },
  {
   "cell_type": "code",
   "execution_count": null,
   "id": "c29bdd09-e119-421f-ad19-749fbb3ded2e",
   "metadata": {},
   "outputs": [],
   "source": [
    "plt.plot(pn.date_range('2018-03-01','2019-02-01', freq = 'MS'), bt_forecast_mar_mab.mean(['member','lat','lon']).tob[1,:], c = 'b')\n",
    "for i in range(10):\n",
    "    plt.plot(pn.date_range('2018-03-01','2019-02-01', freq = 'MS'), bt_forecast_mar_mab.mean(['lat','lon']).tob[1,i,:], c = 'b',linewidth = 0.5, alpha = 0.5)\n",
    "\n",
    "plt.plot(pn.date_range('2018-06-01','2019-05-01', freq = 'MS'), bt_forecast_june_mab.mean(['member','lat','lon']).tob[1,:], c ='goldenrod')\n",
    "for i in range(10):\n",
    "    plt.plot(pn.date_range('2018-06-01','2019-05-01', freq = 'MS'), bt_forecast_june_mab.mean(['lat','lon']).tob[1,i,:], c = 'goldenrod',linewidth = 0.5, alpha = 0.5)\n",
    "\n",
    "\n",
    "plt.plot(pn.date_range('2018-09-01','2019-08-01', freq = 'MS'), bt_forecast_sept_mab.mean(['member','lat','lon']).tob[1,:], c = 'green')\n",
    "for i in range(10):\n",
    "    plt.plot(pn.date_range('2018-09-01','2019-08-01', freq = 'MS'), bt_forecast_sept_mab.mean(['lat','lon']).tob[1,i,:], c = 'green',linewidth = 0.5, alpha = 0.5)\n",
    "\n",
    "plt.plot(pn.date_range('2018-12-01','2019-11-01', freq = 'MS'), bt_forecast_dec_mab.mean(['member','lat','lon']).tob[1,:], c = 'red')\n",
    "for i in range(10):\n",
    "    plt.plot(pn.date_range('2018-12-01','2019-11-01', freq = 'MS'), bt_forecast_dec_mab.mean(['lat','lon']).tob[1,i,:], c = 'red',linewidth = 0.5, alpha = 0.5)\n",
    "\n",
    "#plt.plot(pn.date_range('2019-03-01','2020-03-01', freq = 'ME'), bt_forecast_mar_mab.mean(['member','lat','lon']).tob[2,:], c = 'b')\n",
    "#plt.plot(pn.date_range('2019-06-01','2020-06-01', freq = 'ME'), bt_forecast_june_mab.mean(['member','lat','lon']).tob[2,:], c = 'goldenrod')\n",
    "#plt.plot(pn.date_range('2019-09-01','2020-09-01', freq = 'ME'), bt_forecast_sept_mab.mean(['member','lat','lon']).tob[2,:], c = 'green')\n",
    "#plt.plot(pn.date_range('2019-12-01','2020-12-01', freq = 'ME'), bt_forecast_dec_mab.mean(['member','lat','lon']).tob[2,:], c = 'red')\n",
    "\n",
    "plt.title('MOM6 bottom temperature S2A forecasts', fontsize = 14)\n",
    "plt.ylabel('Degrees C', fontsize = 12)\n",
    "plt.xticks(rotation = 45)\n",
    "plt.plot(pn.date_range('2018-03-01','2019-11-01', freq = 'MS'), bt_gl_mab.mean(['latitude', 'longitude']).sel(time = slice('2018-03-01', '2019-11-01')).bottomT, c = 'k')"
   ]
  },
  {
   "cell_type": "code",
   "execution_count": null,
   "id": "c387fc94-95de-4c54-8ff9-53658f7ee8ef",
   "metadata": {},
   "outputs": [],
   "source": [
    "plt.plot(pn.date_range('2019-03-01','2020-03-01', freq = 'ME'), bt_forecast_mar_mab.mean(['member','lat','lon']).tob[2,:], c = 'b')\n",
    "for i in range(10):\n",
    "    plt.plot(pn.date_range('2019-03-01','2020-03-01', freq = 'ME'), bt_forecast_mar_mab.mean(['lat','lon']).tob[2,i,:], c = 'b',linewidth = 0.5, alpha = 0.5)\n",
    "\n",
    "plt.plot(pn.date_range('2019-06-01','2020-06-01', freq = 'ME'), bt_forecast_june_mab.mean(['member','lat','lon']).tob[2,:], c ='goldenrod')\n",
    "for i in range(10):\n",
    "    plt.plot(pn.date_range('2019-06-01','2020-06-01', freq = 'ME'), bt_forecast_june_mab.mean(['lat','lon']).tob[2,i,:], c = 'goldenrod',linewidth = 0.5, alpha = 0.5)\n",
    "\n",
    "\n",
    "plt.plot(pn.date_range('2019-09-01','2020-09-01', freq = 'ME'), bt_forecast_sept_mab.mean(['member','lat','lon']).tob[2,:], c = 'green')\n",
    "for i in range(10):\n",
    "    plt.plot(pn.date_range('2019-09-01','2020-09-01', freq = 'ME'), bt_forecast_sept_mab.mean(['lat','lon']).tob[2,i,:], c = 'green',linewidth = 0.5, alpha = 0.5)\n",
    "\n",
    "plt.plot(pn.date_range('2019-12-01','2020-12-01', freq = 'ME'), bt_forecast_dec_mab.mean(['member','lat','lon']).tob[2,:], c = 'red')\n",
    "for i in range(10):\n",
    "    plt.plot(pn.date_range('2019-12-01','2020-12-01', freq = 'ME'), bt_forecast_dec_mab.mean(['lat','lon']).tob[2,i,:], c = 'red',linewidth = 0.5, alpha = 0.5)\n",
    "\n",
    "#plt.plot(pn.date_range('2020-03-01','2020-03-01', freq = 'ME'), bt_forecast_mar_mab.mean(['member','lat','lon']).tob[2,:], c = 'b')\n",
    "#plt.plot(pn.date_range('2020-06-01','2020-06-01', freq = 'ME'), bt_forecast_june_mab.mean(['member','lat','lon']).tob[2,:], c = 'goldenrod')\n",
    "#plt.plot(pn.date_range('2020-09-01','2020-09-01', freq = 'ME'), bt_forecast_sept_mab.mean(['member','lat','lon']).tob[2,:], c = 'green')\n",
    "#plt.plot(pn.date_range('2020-12-01','2020-12-01', freq = 'ME'), bt_forecast_dec_mab.mean(['member','lat','lon']).tob[2,:], c = 'red')\n",
    "\n",
    "plt.plot(pn.date_range('2019-03-01','2020-12-01', freq = 'ME'), bt_gl_mab.mean(['latitude', 'longitude']).sel(time = slice('2019-03-01', '2020-11-01')).bottomT, c = 'k')"
   ]
  },
  {
   "cell_type": "code",
   "execution_count": null,
   "id": "d2e21eb6-8166-49ec-ad49-7dd5129be444",
   "metadata": {},
   "outputs": [],
   "source": [
    "bt_gl_mab"
   ]
  },
  {
   "cell_type": "code",
   "execution_count": null,
   "id": "b443e01f-a213-48bc-947f-a88dedfd36ec",
   "metadata": {},
   "outputs": [],
   "source": []
  }
 ],
 "metadata": {
  "kernelspec": {
   "display_name": "mom6_validation_env",
   "language": "python",
   "name": "mom6_validation_env"
  },
  "language_info": {
   "codemirror_mode": {
    "name": "ipython",
    "version": 3
   },
   "file_extension": ".py",
   "mimetype": "text/x-python",
   "name": "python",
   "nbconvert_exporter": "python",
   "pygments_lexer": "ipython3",
   "version": "3.12.4"
  }
 },
 "nbformat": 4,
 "nbformat_minor": 5
}
