{
 "cells": [
  {
   "cell_type": "code",
   "execution_count": 8,
   "id": "84ba4c8e-2f76-4341-8e78-a339b73f8f61",
   "metadata": {},
   "outputs": [],
   "source": [
    "import xarray as xr\n",
    "import geopandas as gpd\n",
    "import regionmask\n",
    "import numpy as np\n",
    "import copernicusmarine as cm\n",
    "import matplotlib.pyplot as plt\n",
    "%matplotlib inline"
   ]
  },
  {
   "cell_type": "code",
   "execution_count": 3,
   "id": "6cfd52ee-bdda-43d1-a3fd-a6688cae0289",
   "metadata": {},
   "outputs": [
    {
     "name": "stderr",
     "output_type": "stream",
     "text": [
      "INFO - 2024-08-20T18:13:37Z - Dataset version was not specified, the latest one was selected: \"202311\"\n",
      "INFO - 2024-08-20T18:13:37Z - Dataset part was not specified, the first one was selected: \"default\"\n",
      "INFO - 2024-08-20T18:13:42Z - Service was not specified, the default one was selected: \"arco-geo-series\"\n"
     ]
    },
    {
     "name": "stdout",
     "output_type": "stream",
     "text": [
      "username:"
     ]
    },
    {
     "name": "stdin",
     "output_type": "stream",
     "text": [
      "  lgruenburg1\n"
     ]
    },
    {
     "name": "stdout",
     "output_type": "stream",
     "text": [
      "password:"
     ]
    },
    {
     "name": "stdin",
     "output_type": "stream",
     "text": [
      "  ········\n"
     ]
    }
   ],
   "source": [
    "#monthly bottom temp data from copernicus\n",
    "ds_gl = cm.open_dataset(dataset_id=\"cmems_mod_glo_phy_my_0.083deg_P1M-m\")"
   ]
  },
  {
   "cell_type": "code",
   "execution_count": 10,
   "id": "1b509740-b3a8-4fa4-a0cc-2550a315fd41",
   "metadata": {},
   "outputs": [],
   "source": [
    "bt_gl = ds_gl.bottomT.sel(latitude = slice(30, 48), longitude = slice(-80, -60))"
   ]
  },
  {
   "cell_type": "code",
   "execution_count": 29,
   "id": "bf2f03b2-aee0-4d45-9914-a495376c8e8c",
   "metadata": {
    "scrolled": true
   },
   "outputs": [],
   "source": [
    "bt_gl.to_netcdf('bt_glorys_M.nc')"
   ]
  },
  {
   "cell_type": "code",
   "execution_count": 13,
   "id": "aa14df26-1dd1-4b0b-97aa-1fa2a166e33f",
   "metadata": {},
   "outputs": [],
   "source": [
    "strata = gpd.read_file('EcoMon_strata/EcoMon_Strata.shp')"
   ]
  },
  {
   "cell_type": "code",
   "execution_count": 15,
   "id": "3172f34d-f0bf-4648-8af2-e9f94f6fa122",
   "metadata": {},
   "outputs": [],
   "source": [
    "# Get the region of interest\n",
    "region = regionmask.from_geopandas(strata)"
   ]
  },
  {
   "cell_type": "code",
   "execution_count": 16,
   "id": "2f25a7db-1ee6-43ba-b92e-716189b1c93c",
   "metadata": {},
   "outputs": [],
   "source": [
    "# Create the mask\n",
    "mask = region.mask(bt_gl.longitude, bt_gl.latitude)"
   ]
  },
  {
   "cell_type": "code",
   "execution_count": 28,
   "id": "fa3a4c46-2f56-4db7-a144-dbee0d12ccdc",
   "metadata": {},
   "outputs": [
    {
     "ename": "TypeError",
     "evalue": "Using a DataArray object to construct a variable is ambiguous, please extract the data using the .data property.",
     "output_type": "error",
     "traceback": [
      "\u001b[1;31m---------------------------------------------------------------------------\u001b[0m",
      "\u001b[1;31mTypeError\u001b[0m                                 Traceback (most recent call last)",
      "Cell \u001b[1;32mIn[28], line 1\u001b[0m\n\u001b[1;32m----> 1\u001b[0m bt_gl_strata \u001b[38;5;241m=\u001b[39m xr\u001b[38;5;241m.\u001b[39mDataset(data_vars \u001b[38;5;241m=\u001b[39m {\u001b[38;5;124m'\u001b[39m\u001b[38;5;124m01\u001b[39m\u001b[38;5;124m'\u001b[39m: ([\u001b[38;5;124m'\u001b[39m\u001b[38;5;124mtime\u001b[39m\u001b[38;5;124m'\u001b[39m,\u001b[38;5;124m'\u001b[39m\u001b[38;5;124mlatitude\u001b[39m\u001b[38;5;124m'\u001b[39m,\u001b[38;5;124m'\u001b[39m\u001b[38;5;124mlongitude\u001b[39m\u001b[38;5;124m'\u001b[39m], bt_gl\u001b[38;5;241m.\u001b[39mwhere(mask \u001b[38;5;241m==\u001b[39m region\u001b[38;5;241m.\u001b[39mnumbers[\u001b[38;5;241m0\u001b[39m]))},\n\u001b[0;32m      2\u001b[0m                           coords \u001b[38;5;241m=\u001b[39m {\u001b[38;5;124m'\u001b[39m\u001b[38;5;124mtime\u001b[39m\u001b[38;5;124m'\u001b[39m: bt_gl\u001b[38;5;241m.\u001b[39mtime,\n\u001b[0;32m      3\u001b[0m                                     \u001b[38;5;124m'\u001b[39m\u001b[38;5;124mlatitude\u001b[39m\u001b[38;5;124m'\u001b[39m: bt_gl\u001b[38;5;241m.\u001b[39mlatitude,\n\u001b[0;32m      4\u001b[0m                                     \u001b[38;5;124m'\u001b[39m\u001b[38;5;124mlongitude\u001b[39m\u001b[38;5;124m'\u001b[39m: bt_gl\u001b[38;5;241m.\u001b[39mlongitude})\n\u001b[0;32m      6\u001b[0m \u001b[38;5;28;01mfor\u001b[39;00m i \u001b[38;5;129;01min\u001b[39;00m np\u001b[38;5;241m.\u001b[39marange(\u001b[38;5;241m1\u001b[39m, \u001b[38;5;28mlen\u001b[39m(region\u001b[38;5;241m.\u001b[39mnumbers)):\n\u001b[0;32m      7\u001b[0m     masked_ds \u001b[38;5;241m=\u001b[39m bt_gl\u001b[38;5;241m.\u001b[39mwhere(mask \u001b[38;5;241m==\u001b[39m region\u001b[38;5;241m.\u001b[39mnumbers[i])\n",
      "File \u001b[1;32m~\\AppData\\Local\\anaconda3\\envs\\mom6_validation_env\\Lib\\site-packages\\xarray\\core\\dataset.py:652\u001b[0m, in \u001b[0;36mDataset.__init__\u001b[1;34m(self, data_vars, coords, attrs)\u001b[0m\n\u001b[0;32m    649\u001b[0m \u001b[38;5;28;01mif\u001b[39;00m \u001b[38;5;28misinstance\u001b[39m(coords, Dataset):\n\u001b[0;32m    650\u001b[0m     coords \u001b[38;5;241m=\u001b[39m coords\u001b[38;5;241m.\u001b[39m_variables\n\u001b[1;32m--> 652\u001b[0m variables, coord_names, dims, indexes, _ \u001b[38;5;241m=\u001b[39m merge_data_and_coords(\n\u001b[0;32m    653\u001b[0m     data_vars, coords, compat\u001b[38;5;241m=\u001b[39m\u001b[38;5;124m\"\u001b[39m\u001b[38;5;124mbroadcast_equals\u001b[39m\u001b[38;5;124m\"\u001b[39m\n\u001b[0;32m    654\u001b[0m )\n\u001b[0;32m    656\u001b[0m \u001b[38;5;28mself\u001b[39m\u001b[38;5;241m.\u001b[39m_attrs \u001b[38;5;241m=\u001b[39m \u001b[38;5;28mdict\u001b[39m(attrs) \u001b[38;5;28;01mif\u001b[39;00m attrs \u001b[38;5;129;01mis\u001b[39;00m \u001b[38;5;129;01mnot\u001b[39;00m \u001b[38;5;28;01mNone\u001b[39;00m \u001b[38;5;28;01melse\u001b[39;00m \u001b[38;5;28;01mNone\u001b[39;00m\n\u001b[0;32m    657\u001b[0m \u001b[38;5;28mself\u001b[39m\u001b[38;5;241m.\u001b[39m_close \u001b[38;5;241m=\u001b[39m \u001b[38;5;28;01mNone\u001b[39;00m\n",
      "File \u001b[1;32m~\\AppData\\Local\\anaconda3\\envs\\mom6_validation_env\\Lib\\site-packages\\xarray\\core\\merge.py:569\u001b[0m, in \u001b[0;36mmerge_data_and_coords\u001b[1;34m(data_vars, coords, compat, join)\u001b[0m\n\u001b[0;32m    567\u001b[0m objects \u001b[38;5;241m=\u001b[39m [data_vars, coords]\n\u001b[0;32m    568\u001b[0m explicit_coords \u001b[38;5;241m=\u001b[39m coords\u001b[38;5;241m.\u001b[39mkeys()\n\u001b[1;32m--> 569\u001b[0m \u001b[38;5;28;01mreturn\u001b[39;00m merge_core(\n\u001b[0;32m    570\u001b[0m     objects,\n\u001b[0;32m    571\u001b[0m     compat,\n\u001b[0;32m    572\u001b[0m     join,\n\u001b[0;32m    573\u001b[0m     explicit_coords\u001b[38;5;241m=\u001b[39mexplicit_coords,\n\u001b[0;32m    574\u001b[0m     indexes\u001b[38;5;241m=\u001b[39mIndexes(indexes, coords),\n\u001b[0;32m    575\u001b[0m )\n",
      "File \u001b[1;32m~\\AppData\\Local\\anaconda3\\envs\\mom6_validation_env\\Lib\\site-packages\\xarray\\core\\merge.py:755\u001b[0m, in \u001b[0;36mmerge_core\u001b[1;34m(objects, compat, join, combine_attrs, priority_arg, explicit_coords, indexes, fill_value)\u001b[0m\n\u001b[0;32m    751\u001b[0m coerced \u001b[38;5;241m=\u001b[39m coerce_pandas_values(objects)\n\u001b[0;32m    752\u001b[0m aligned \u001b[38;5;241m=\u001b[39m deep_align(\n\u001b[0;32m    753\u001b[0m     coerced, join\u001b[38;5;241m=\u001b[39mjoin, copy\u001b[38;5;241m=\u001b[39m\u001b[38;5;28;01mFalse\u001b[39;00m, indexes\u001b[38;5;241m=\u001b[39mindexes, fill_value\u001b[38;5;241m=\u001b[39mfill_value\n\u001b[0;32m    754\u001b[0m )\n\u001b[1;32m--> 755\u001b[0m collected \u001b[38;5;241m=\u001b[39m collect_variables_and_indexes(aligned, indexes\u001b[38;5;241m=\u001b[39mindexes)\n\u001b[0;32m    756\u001b[0m prioritized \u001b[38;5;241m=\u001b[39m _get_priority_vars_and_indexes(aligned, priority_arg, compat\u001b[38;5;241m=\u001b[39mcompat)\n\u001b[0;32m    757\u001b[0m variables, out_indexes \u001b[38;5;241m=\u001b[39m merge_collected(\n\u001b[0;32m    758\u001b[0m     collected, prioritized, compat\u001b[38;5;241m=\u001b[39mcompat, combine_attrs\u001b[38;5;241m=\u001b[39mcombine_attrs\n\u001b[0;32m    759\u001b[0m )\n",
      "File \u001b[1;32m~\\AppData\\Local\\anaconda3\\envs\\mom6_validation_env\\Lib\\site-packages\\xarray\\core\\merge.py:354\u001b[0m, in \u001b[0;36mcollect_variables_and_indexes\u001b[1;34m(list_of_mappings, indexes)\u001b[0m\n\u001b[0;32m    351\u001b[0m     indexes_\u001b[38;5;241m.\u001b[39mpop(name, \u001b[38;5;28;01mNone\u001b[39;00m)\n\u001b[0;32m    352\u001b[0m     append_all(coords_, indexes_)\n\u001b[1;32m--> 354\u001b[0m variable \u001b[38;5;241m=\u001b[39m as_variable(variable, name\u001b[38;5;241m=\u001b[39mname)\n\u001b[0;32m    355\u001b[0m \u001b[38;5;28;01mif\u001b[39;00m name \u001b[38;5;129;01min\u001b[39;00m indexes:\n\u001b[0;32m    356\u001b[0m     append(name, variable, indexes[name])\n",
      "File \u001b[1;32m~\\AppData\\Local\\anaconda3\\envs\\mom6_validation_env\\Lib\\site-packages\\xarray\\core\\variable.py:127\u001b[0m, in \u001b[0;36mas_variable\u001b[1;34m(obj, name)\u001b[0m\n\u001b[0;32m    125\u001b[0m \u001b[38;5;28;01melif\u001b[39;00m \u001b[38;5;28misinstance\u001b[39m(obj, \u001b[38;5;28mtuple\u001b[39m):\n\u001b[0;32m    126\u001b[0m     \u001b[38;5;28;01mif\u001b[39;00m \u001b[38;5;28misinstance\u001b[39m(obj[\u001b[38;5;241m1\u001b[39m], DataArray):\n\u001b[1;32m--> 127\u001b[0m         \u001b[38;5;28;01mraise\u001b[39;00m \u001b[38;5;167;01mTypeError\u001b[39;00m(\n\u001b[0;32m    128\u001b[0m             \u001b[38;5;124m\"\u001b[39m\u001b[38;5;124mUsing a DataArray object to construct a variable is\u001b[39m\u001b[38;5;124m\"\u001b[39m\n\u001b[0;32m    129\u001b[0m             \u001b[38;5;124m\"\u001b[39m\u001b[38;5;124m ambiguous, please extract the data using the .data property.\u001b[39m\u001b[38;5;124m\"\u001b[39m\n\u001b[0;32m    130\u001b[0m         )\n\u001b[0;32m    131\u001b[0m     \u001b[38;5;28;01mtry\u001b[39;00m:\n\u001b[0;32m    132\u001b[0m         obj \u001b[38;5;241m=\u001b[39m Variable(\u001b[38;5;241m*\u001b[39mobj)\n",
      "\u001b[1;31mTypeError\u001b[0m: Using a DataArray object to construct a variable is ambiguous, please extract the data using the .data property."
     ]
    }
   ],
   "source": [
    "bt_gl_strata = xr.Dataset(data_vars = {'01': (['time','latitude','longitude'], bt_gl.where(mask == region.numbers[0]))},\n",
    "                          coords = {'time': bt_gl.time,\n",
    "                                    'latitude': bt_gl.latitude,\n",
    "                                    'longitude': bt_gl.longitude})\n",
    "                                              \n",
    "for i in np.arange(1, len(region.numbers)):\n",
    "    masked_ds = bt_gl.where(mask == region.numbers[i])\n",
    "    strata_bt_gl_n = xr.Dataset(data_vars = {strata.STRATA[i]: (['time','latitude','longitude'], bt_gl.where(mask == region.numbers[i]))},\n",
    "                          coords = {'time': bt_gl.time,\n",
    "                                    'latitude': bt_gl.latitude,\n",
    "                                    'longitude': bt_gl.longitude})\n",
    "    bt_gl_strata = xr.merge([bt_gl_strata, strata_bt_gl_n])"
   ]
  },
  {
   "cell_type": "code",
   "execution_count": null,
   "id": "d5875fbc-6521-4db2-bc70-03c2a7f9818d",
   "metadata": {},
   "outputs": [],
   "source": [
    "# Loop through to get temperature data for each scallop management area in MAB\n",
    "temp_data_MAB_sma = bottom_temp_data_mom6_SMA_0_MAB\n",
    "#temp_data_MAB_sma[np.where(np.isnan(temp_data_MAB_sma) == True)] = 0\n",
    "\n",
    "for i in range(1,12):\n",
    "    shp = mab_wgs84.geometry[i]\n",
    "    bottom_temp_data_mom6_SMA_N_MAB = inSHAPE(bt_mom6_smalldomain.lon, bt_mom6_smalldomain.lat, bt_mom6_smalldomain.bt, shp, bt_mom6_smalldomain.time)\n",
    "    mom6_sma_subsets_mab_n = xr.Dataset(data_vars = {NEWsams_NAMES_MAB[i]: (['time','lat','lon'], bottom_temp_data_mom6_SMA_N_MAB)},\n",
    "                          coords = {'time': bt_mom6_smalldomain.time,\n",
    "                                    'lat': bt_mom6_smalldomain.lat,\n",
    "                                    'lon': bt_mom6_smalldomain.lon})\n",
    "    mom6_sma_subsets_mab = xr.merge([mom6_sma_subsets_mab, mom6_sma_subsets_mab_n])\n",
    "    #bottom_temp_data_mom6_SMA_N_MAB[np.where(np.isnan(bottom_temp_data_mom6_SMA_N_MAB) == True)] = 0\n",
    "    temp_data_MAB_sma = np.nansum([temp_data_MAB_sma, bottom_temp_data_mom6_SMA_N_MAB], axis = 0)"
   ]
  },
  {
   "cell_type": "code",
   "execution_count": null,
   "id": "604a3867-0324-4024-becd-4939dad8c916",
   "metadata": {},
   "outputs": [],
   "source": [
    "    \n",
    "    # Apply mask to the data\n",
    "    masked_ds = data.where(mask == region.numbers[0])"
   ]
  },
  {
   "cell_type": "code",
   "execution_count": 24,
   "id": "b2044535-e6f9-4e18-8cea-677494d2589e",
   "metadata": {},
   "outputs": [
    {
     "data": {
      "text/plain": [
       "'01'"
      ]
     },
     "execution_count": 24,
     "metadata": {},
     "output_type": "execute_result"
    }
   ],
   "source": [
    "strata.STRATA[0]"
   ]
  },
  {
   "cell_type": "code",
   "execution_count": null,
   "id": "188c1353-0592-4ed7-8731-be37a3246543",
   "metadata": {},
   "outputs": [],
   "source": []
  },
  {
   "cell_type": "raw",
   "id": "0dd4f624-de38-4f53-99ac-ba6591e45068",
   "metadata": {},
   "source": []
  }
 ],
 "metadata": {
  "kernelspec": {
   "display_name": "mom6_validation_env",
   "language": "python",
   "name": "mom6_validation_env"
  },
  "language_info": {
   "codemirror_mode": {
    "name": "ipython",
    "version": 3
   },
   "file_extension": ".py",
   "mimetype": "text/x-python",
   "name": "python",
   "nbconvert_exporter": "python",
   "pygments_lexer": "ipython3",
   "version": "3.12.4"
  }
 },
 "nbformat": 4,
 "nbformat_minor": 5
}
